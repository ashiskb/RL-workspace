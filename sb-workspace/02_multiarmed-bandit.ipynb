{
 "cells": [
  {
   "attachments": {},
   "cell_type": "markdown",
   "metadata": {},
   "source": [
    "# Chapter 2: Multi-armed Bandit\n",
    "![a-multiarm-bandit](figs/02-multiarm-bandit.png)\n",
    "* (photo reference: Cartoonist Hagen @ [https://www.hagencartoons.com](https://www.hagencartoons.com))\n",
    "* Or, a better **bandit style** illustration of a multi-armed bandit:\n",
    "![a-multiarm-bandit](figs/02-b-multiarm-bandit.gif)\n"
   ]
  },
  {
   "attachments": {},
   "cell_type": "markdown",
   "metadata": {},
   "source": [
    "* The **multi-armed bandit problem** (sometimes called the $K$- or $N$-armed bandit problem):\n",
    "    - It is a problem in which a fixed limited set of resources must be allocated between competing (alternative) choices in a way that maximizes their expected gain, when each choice's properties are only partially known at the time of allocation, and may become better understood as time passes or by allocating resources to the choice. ([Wiki](https://en.wikipedia.org/wiki/Multi-armed_bandit))\n",
    "    - In other words(1): how to take action ``wisely`` in a game with an opponent as you learn to know her/his moves as you continue to play?\n",
    "    - In other words(2): [how to choose between multiple restaurants ``wisely`` in a town you are visiting for a short time (ofcourse without the Yelp or prior reviews) to make you the most satisfied each day?](https://youtu.be/e3L4VocZnnQ)?\n",
    "    - In other words(3): how to choose courses ``wisely`` in CS to be rewarded the most later after graduation?\n",
    "    - and so on ...\n",
    "    - I hope you got the problem."
   ]
  },
  {
   "attachments": {},
   "cell_type": "markdown",
   "metadata": {},
   "source": [
    "* **History of the name ``multi-armed bandit``**:\n",
    "    * The name comes from imagining a **gambler** (and hence the mask around the eyes) at a row of slot machines (sometimes known as `one-armed bandits`), who has to decide which machines to play, how many times to play each machine and in which order to play them, and whether to continue with the current machine or try a different machine to earn the most money!"
   ]
  },
  {
   "attachments": {},
   "cell_type": "markdown",
   "metadata": {},
   "source": [
    "## Goal of this chapter\n",
    "![the-agent-environment-loop](figs/02-c-agent-environment-loop.png)\n",
    "* Understanding a reinforcement learning problem  \n",
    "    - in perspective of a ``multi-armed bandit`` problem\n",
    "    - in perspective of a ``contextual bandit`` problem\n",
    "* Exploration- Expoitation tradeoff\n",
    "    - How we learn value functions\n",
    "    - Greedy action selection\n",
    "    - $\\varepsilon$-Greedy selection\n",
    "    - Upper Confidence Bound (UCB)\n",
    "    - Gradient Bandits"
   ]
  },
  {
   "cell_type": "code",
   "execution_count": null,
   "metadata": {},
   "outputs": [],
   "source": [
    "while(true):\n",
    "    coin_toss_outcome = rand()  #returns (0,1)\n",
    "    if coin_toss_outcome < 0.1:\n",
    "        print('Random')\n",
    "        action = random_action\n",
    "    else:\n",
    "        print('Exploit')\n",
    "        action = greedy_action\n",
    "    \n"
   ]
  },
  {
   "attachments": {},
   "cell_type": "markdown",
   "metadata": {},
   "source": [
    "## $k$-armed bandits\n",
    "![a-multiarm-bandit](figs/02-b-multiarm-bandit.gif)\n",
    "* Say, the bandit gets cash/coins (of differing values) as reward once it presses a button (one of the six: A, B, C, D, E, F)\n",
    "* The bandit need to choosing which of the six buttons to push to get the maximum reward.\n",
    "* The ``reward distribution`` can be stationary or non-stationary.\n",
    "    - Does the reward of pressing the button `B` change over time? "
   ]
  },
  {
   "attachments": {},
   "cell_type": "markdown",
   "metadata": {},
   "source": [
    "## Maximizing the Reward\n",
    "* Through repeated actions you maximize your winning by pressing the `best` buttons?\n",
    "* How to find the `best` buttons?\n",
    "* Estimating values of each action (below: sample-average method)\n",
    "    - Averaging the rewards actually received up-until now:\n",
    "\n",
    "$$\n",
    "\\begin{array}\n",
    "\\nonumber Q_t(a) &=& \\dfrac{\\text{sum of rewards when action $a$ taken prior to timestep $t$}}{\\text{number of times action $a$ taken prior to timestep $t$}}\\\\\n",
    "\\nonumber &=& \\dfrac{\\sum_{i=1}^{t-1} R_i \\cdot \\mathbb{1}_{A_i=a}}{\\sum_{i=1}^{t-1}\\mathbb{1}_{A_i=a}}\n",
    "\\end{array}\n",
    "$$\n",
    "where,\n",
    "* $\\mathbb{1}_{A_i=a}$ denotes this becomes 1 when $A_i=a$, otherwise 0.\n",
    "* $a$ is the action from a set of actions, i.e, the action space, $A$. In our case, that is pressing one of the six buttons: {A, B, C, D, E, F}\n",
    "* $R_i$ is the reward (i.e., cash dispensed) when the bandit pressed the button, $a$, at timestep $i$.\n",
    "\n",
    "* *Of course this is just one way to estimate action values, and not necessarily the best one.*\n"
   ]
  },
  {
   "attachments": {},
   "cell_type": "markdown",
   "metadata": {},
   "source": [
    "## Greedy action selection rule\n",
    "* Select one of the actions with the highest estimated $Q$ value, i.e, \n",
    "\n",
    "$$\n",
    "A_t = \\underset{a}{\\text{argmax}}\\quad Q_t(a)\n",
    "$$\n",
    "where, $\\underset{a}{\\text{argmax}}$ denotes the action $a$ for which the expression that follows is maximized.\n",
    "\n",
    "* Greedy action selection always exploits current knowledge to maximize immediate reward;\n",
    "    - it spends no time at all sampling apparently inferior actions to see if they might really be better."
   ]
  },
  {
   "attachments": {},
   "cell_type": "markdown",
   "metadata": {},
   "source": [
    "## $\\varepsilon$-Greedy action selection"
   ]
  },
  {
   "attachments": {},
   "cell_type": "markdown",
   "metadata": {},
   "source": [
    "* A simple alternative to being greedy all the time is:\n",
    "    - Behave greedily most of the time, but every once in a while (say, with small probability, $\\varepsilon$), instead select an action with uniform probability.\n",
    "* As the number of steps increases, every action will be sampled an infinite number of times.\n",
    "    - This ensures that all the $Q_t(a)$ converges to $q_*(a)$ (i.e., optimal).\n",
    "    - Ofcourse, this implies that the probability of selecting the optimal action converges to a value greater than $ (1-\\varepsilon)$."
   ]
  },
  {
   "attachments": {},
   "cell_type": "markdown",
   "metadata": {},
   "source": [
    "## Exercise (a)\n",
    "In $\\varepsilon$-greedy action selection, for the case of two actions and $\\varepsilon=0.5$, what is the probability that the greedy action is selected?\n"
   ]
  },
  {
   "attachments": {},
   "cell_type": "markdown",
   "metadata": {},
   "source": [
    "### Solution to exercise (a)\n",
    "* Say, $G$ is a binary variable denoting ``greedy action`` is taken.\n",
    "* $R$ is a binary variable denoting ``an action is taken randomly with uniform probability``.\n",
    "* By definition: $P(R) = 0.5 = \\varepsilon$, and so $P(\\bar{R}) = 1-0.5 = 0.5$\n",
    "* $P(G) = ?$\n",
    "\n",
    "$$\n",
    "\\begin{array}\n",
    "\\nonumber P(G)  &=& P(\\text{prior action was taken greedily}) + P(\\text{prior action was taken randomly})\\\\\n",
    "\\nonumber &=& P(G|\\bar{R})P(\\bar{R}) + P(G|R)P(R)\\\\\n",
    "\\nonumber &=& 1 \\cdot 0.5 + \\dfrac{1}{2}\\cdot 0.5\\\\\n",
    "\\nonumber &=& 0.75\n",
    "\\end{array}\n",
    "$$\n",
    "* Please note, \n",
    "    - $P(G|\\bar{R})$ = 1 because the agent was certain (i.e., 100%) about the action to take.\n",
    "    - $P(G|R) = \\dfrac{1}{2}$, as there are 2 actions to choose from (uniformly)"
   ]
  },
  {
   "attachments": {},
   "cell_type": "markdown",
   "metadata": {},
   "source": [
    "## Efficient Sample-averaging\n",
    "* Constant memory and constant per-time-step computation\n",
    "* Let, $R_i$ denotes the reward received after the $i$-th timestep of taking an action.\n",
    "* $Q_n$ denote the estimate of its action value after it has been selected $n-1$ times:\n",
    "$$\n",
    "Q_n = \\dfrac{R_1 + R_2 + \\cdots + R_{n-1}}{n-1}\n",
    "$$\n",
    "* An obvious implementation of the above would be\n",
    "    - maintain a record of all rewards and perform the computation whenever the estimate is needed.\n",
    "    - Unfortunately, this will cause memory and computation requirements to grow over time as more rewards are seen.\n",
    "* Good news! This is not really necessary\n",
    "    - It is easy to devise an ``incremental formula`` to compute running averages for $Q_n$\n",
    "$$\n",
    "\\begin{array}\n",
    "\\nonumber Q_{n+1} &=& \\dfrac{1}{n}\\sum_{i=1}^nR_i\\\\\n",
    "\\nonumber &=& \\dfrac{1}{n}\\left( R_n + \\sum_{i=1}^{n-1}R_i\\right)\\\\\n",
    "\\nonumber &=& \\dfrac{1}{n}\\left( R_n + (n-1)\\dfrac{1}{n-1}\\sum_{i=1}^{n-1}R_i\\right)\\\\\n",
    "\\nonumber &=& \\dfrac{1}{n}\\left( R_n + (n-1)Q_n\\right)\\\\\n",
    "\\nonumber &=& \\dfrac{1}{n}\\left( R_n + nQ_n-Q_n\\right)\\\\\n",
    "\\nonumber &=& Q_n + \\dfrac{1}{n}\\left( R_n - Q_n\\right)\\\\\n",
    "\\end{array}\n",
    "$$"
   ]
  },
  {
   "attachments": {},
   "cell_type": "markdown",
   "metadata": {},
   "source": [
    "###  Example (Running, (or moving) average)\n",
    "* Given $n$, list of (streaming) numbers... ideally an infinite stream of numbers.\n",
    "* After taking a number from the stream, print the moving average.\n",
    "* Condition: constant memory and constant per-time-step computation."
   ]
  },
  {
   "cell_type": "code",
   "execution_count": 14,
   "metadata": {},
   "outputs": [
    {
     "name": "stdout",
     "output_type": "stream",
     "text": [
      "After input R_(7), the moving average, Q(1) = 7.0\n",
      "After input R_(10), the moving average, Q(2) = 8.5\n",
      "After input R_(9), the moving average, Q(3) = 8.666666666666666\n",
      "After input R_(9), the moving average, Q(4) = 8.75\n",
      "After input R_(11), the moving average, Q(5) = 9.2\n",
      "After input R_(1), the moving average, Q(6) = 7.833333333333333\n",
      "After input R_(1), the moving average, Q(7) = 6.857142857142857\n",
      "After input R_(15), the moving average, Q(8) = 7.875\n",
      "After input R_(6), the moving average, Q(9) = 7.666666666666667\n",
      "After input R_(14), the moving average, Q(10) = 8.3\n"
     ]
    }
   ],
   "source": [
    "import random\n",
    "n = 10\n",
    "Q_n = 0 #initially, the average is zero for n=0\n",
    "\n",
    "for i in range(1,n+1):\n",
    "    #step 1: take the number\n",
    "    R_n = random.randint(0,15)\n",
    "    #step 2: calculate moving average\n",
    "    Q_n = Q_n + (1.0/i)*(R_n - Q_n)\n",
    "    #step 3: print the moving average\n",
    "    print(f'After input R_({R_n}), the moving average, Q({i}) = {Q_n}')\n",
    "\n",
    "\n"
   ]
  },
  {
   "attachments": {},
   "cell_type": "markdown",
   "metadata": {},
   "source": [
    "* The update rule will occur frequently throughtout this course:\n",
    "$$\n",
    "Q_{n+1} = Q_n + \\dfrac{1}{n}\\left( R_n - Q_n\\right)\n",
    "$$\n",
    "\n",
    "* The general idea is:\n",
    "$$\n",
    "\\text{NewEstimate} \\leftarrow \\text{OldEstimate} + \\text{StepSize}\\cdot[\\text{Target} - \\text{OldEstimate}]\n",
    "$$\n",
    "* The expression $[\\text{Target} - \\text{OldEstimate}]$ is an error estimate.\n",
    "    - This error is reduced by taking a step toward the ``Target``.\n",
    "    - The target is presumed to indicate a desirable direction in which to move.\n",
    "    - In the moving/running average example above, the target, $R_n$ is the $n$-th reward, the $n$-th input received.\n",
    "* Also note that,\n",
    "    - the $\\text{StepSize}$ parameter changes from timestep to timestep.\n",
    "    - In processing the $n$-th reward for action $a$, the method uses the stepsize $\\dfrac{1}{n}$.\n",
    "    - Often, this $\\text{StepSize}$ parameter will be denoted by $\\alpha$"
   ]
  },
  {
   "attachments": {},
   "cell_type": "markdown",
   "metadata": {},
   "source": [
    "## Pseudocode for a complete bandit algorithm\n",
    "* Here, the fundtion ``bandit(a)`` is assumed to taken an action and return a corresponding reward.\n",
    "![complete bandit algorithm](figs/02-d-a-simple-bandit-algorithm.png)\n"
   ]
  },
  {
   "cell_type": "code",
   "execution_count": 15,
   "metadata": {},
   "outputs": [],
   "source": [
    "import numpy as np\n",
    "def argmax_rand(arr):\n",
    "    # break ties randomly, np.argmax() always picks first max\n",
    "    return np.random.choice(np.flatnonzero(arr == arr.max()))"
   ]
  },
  {
   "cell_type": "code",
   "execution_count": 16,
   "metadata": {},
   "outputs": [],
   "source": [
    "#The function following the pseudocode\n",
    "def simple_bandit(env, nb, eps):\n",
    "    Q = np.zeros(env.size)\n",
    "    N = np.zeros(env.size)\n",
    "    \n",
    "    for _ in range(nb):\n",
    "        A = argmax_rand(Q) if np.random.rand() > eps else np.random.randint(env.size)            \n",
    "        R = env.step(A) #bandit(A)\n",
    "        N[A] = N[A] + 1                \n",
    "        Q[A] = Q[A] + (1/N[A]) * (R - Q[A])\n",
    "        \n",
    "    return Q"
   ]
  },
  {
   "attachments": {},
   "cell_type": "markdown",
   "metadata": {},
   "source": [
    "### The environment"
   ]
  },
  {
   "cell_type": "code",
   "execution_count": 17,
   "metadata": {},
   "outputs": [],
   "source": [
    "class BanditEnv:\n",
    "    def __init__(self):\n",
    "        \"\"\"10-armed testbed, see chapter 2.3\"\"\"\n",
    "        self.size = 10                                        # 10 arms\n",
    "        self.means = np.array([0.25, -0.75, 1.5, 0.5, 1.25,   # eyeball fig 2.1\n",
    "                               -1.5, -0.25, -1, 0.75, -0.5])\n",
    "    def step(self, action):\n",
    "        return np.random.normal(loc=self.means[action])"
   ]
  },
  {
   "attachments": {},
   "cell_type": "markdown",
   "metadata": {},
   "source": [
    "### The bandit algorithm (slight modification)\n",
    "* with history logging so to re-create the 10-armed testbed experiment in SB-2.3"
   ]
  },
  {
   "cell_type": "code",
   "execution_count": 18,
   "metadata": {},
   "outputs": [],
   "source": [
    "def simple_bandit(env, nb, eps):\n",
    "    hist_A = []\n",
    "    hist_R = []\n",
    "    \n",
    "    Q = np.zeros(env.size)\n",
    "    N = np.zeros(env.size)\n",
    "    \n",
    "    for _ in range(nb):\n",
    "        A = argmax_rand(Q) if np.random.rand() > eps else np.random.randint(env.size)            \n",
    "        R = env.step(A)    \n",
    "        N[A] = N[A] + 1                \n",
    "        Q[A] = Q[A] + (1/N[A]) * (R - Q[A])\n",
    "        \n",
    "        hist_A.append(A)\n",
    "        hist_R.append(R)\n",
    "        \n",
    "    return Q, np.array(hist_A), np.array(hist_R)"
   ]
  },
  {
   "attachments": {},
   "cell_type": "markdown",
   "metadata": {},
   "source": [
    "### Recreating Figure 2.1: 10-armed bandit problem"
   ]
  },
  {
   "cell_type": "code",
   "execution_count": 19,
   "metadata": {},
   "outputs": [
    {
     "data": {
      "image/png": "[encoded data removed]",
      "text/plain": [
       "<Figure size 640x480 with 1 Axes>"
      ]
     },
     "metadata": {},
     "output_type": "display_data"
    }
   ],
   "source": [
    "import matplotlib.pyplot as plt\n",
    "\n",
    "num_of_k_armed_bandit_problems = 2000\n",
    "k = 10\n",
    "\n",
    "env = BanditEnv()\n",
    "\n",
    "fig = plt.figure()\n",
    "ax = fig.add_subplot(111)\n",
    "parts = ax.violinplot(np.random.randn(num_of_k_armed_bandit_problems,k) + env.means,\n",
    "                      showmeans=True, showextrema=False)\n",
    "for pc in parts['bodies']: pc.set_facecolor('gray')\n",
    "parts['cmeans'].set_color('gray')\n",
    "ax.plot([0,k],[0,0], color='gray', linestyle='--')\n",
    "ax.set_ylim([-4, 4])\n",
    "ax.set_xlabel(\"Action\"); ax.set_ylabel(\"Reward Distribution\")\n",
    "plt.xticks(np.arange(1, 10+1, 1))\n",
    "plt.tight_layout()\n",
    "plt.savefig('figs/02-e-recreating-sb-fig-2_1.png')\n",
    "plt.show()"
   ]
  },
  {
   "attachments": {},
   "cell_type": "markdown",
   "metadata": {},
   "source": [
    "* For each bandit problem, the action values, $q_*(a)$, $a=1, 2, \\cdots, 10$ were selected according to a Gaussian distribution with mean=0, variance=1.\n",
    "* Then, when a learning method is applied, at timestep $t$, the actual reward, $R_t$ was selected from a Gaussian distribution with mean $q_*(A_t)$, and variance 1.\n",
    "    - These distributions are shown in gray.\n",
    "    - According to the 10-armed testbed experiment: pressing button `3` would be the best, and `6` would be the worst."
   ]
  },
  {
   "attachments": {},
   "cell_type": "markdown",
   "metadata": {},
   "source": [
    "### Recreating Figure 2.2\n",
    "* Average performance of $\\varepsilon$-greedy actin-value methods on the 10-armed testbed.\n",
    "* These dta are averages over 2000 runs with different bandit problems."
   ]
  },
  {
   "attachments": {},
   "cell_type": "markdown",
   "metadata": {},
   "source": [
    "#### Generating some data"
   ]
  },
  {
   "cell_type": "code",
   "execution_count": 20,
   "metadata": {},
   "outputs": [
    {
     "name": "stderr",
     "output_type": "stream",
     "text": [
      "100%|██████████| 2000/2000 [04:23<00:00,  7.60it/s]\n"
     ]
    }
   ],
   "source": [
    "from tqdm import tqdm\n",
    "env = BanditEnv()\n",
    "\n",
    "runs_ep0_A, runs_ep0_R = [], []      # eps=0, greedy\n",
    "runs_ep01_A, runs_ep01_R = [], []    # eps=0.1\n",
    "runs_ep001_A, runs_ep001_R = [], []  # eps=0.01\n",
    "\n",
    "for i in tqdm(range(2000)):\n",
    "    _, hist_A, hist_R = simple_bandit(env, nb=1000, eps=0)\n",
    "    _, runs_ep0_A.append(hist_A); runs_ep0_R.append(hist_R);\n",
    "    \n",
    "    _, hist_A, hist_R = simple_bandit(env, nb=1000, eps=0.1)\n",
    "    _, runs_ep01_A.append(hist_A); runs_ep01_R.append(hist_R); \n",
    "    \n",
    "    _, hist_A, hist_R = simple_bandit(env, nb=1000, eps=0.01)\n",
    "    _, runs_ep001_A.append(hist_A); runs_ep001_R.append(hist_R);\n",
    "    \n",
    "runs_ep0_A, runs_ep0_R = np.array(runs_ep0_A), np.array(runs_ep0_R)\n",
    "runs_ep01_A, runs_ep01_R = np.array(runs_ep01_A), np.array(runs_ep01_R)\n",
    "runs_ep001_A, runs_ep001_R = np.array(runs_ep001_A), np.array(runs_ep001_R)"
   ]
  },
  {
   "attachments": {},
   "cell_type": "markdown",
   "metadata": {},
   "source": [
    "#### Calc average reward and % optimal action"
   ]
  },
  {
   "cell_type": "code",
   "execution_count": 21,
   "metadata": {},
   "outputs": [],
   "source": [
    "# Calc average reward\n",
    "avg_ep0_R = np.average(runs_ep0_R, axis=0)\n",
    "avg_ep01_R = np.average(runs_ep01_R, axis=0)\n",
    "avg_ep001_R = np.average(runs_ep001_R, axis=0)\n",
    "\n",
    "# Calc \"% optimal action\"\n",
    "max_A = np.argmax(env.means)\n",
    "opt_ep0_A = np.average(runs_ep0_A==max_A, axis=0)\n",
    "opt_ep01_A = np.average(runs_ep01_A==max_A, axis=0)\n",
    "opt_ep001_A = np.average(runs_ep001_A==max_A, axis=0)"
   ]
  },
  {
   "attachments": {},
   "cell_type": "markdown",
   "metadata": {},
   "source": [
    "#### Now, plot (recreating Figure 2.2)"
   ]
  },
  {
   "cell_type": "code",
   "execution_count": 22,
   "metadata": {},
   "outputs": [
    {
     "data": {
      "image/png": "[encoded data removed]",
      "text/plain": [
       "<Figure size 640x480 with 2 Axes>"
      ]
     },
     "metadata": {},
     "output_type": "display_data"
    }
   ],
   "source": [
    "fig = plt.figure()\n",
    "ax = fig.add_subplot(211)\n",
    "ax.plot(avg_ep0_R,   linewidth=0.5, color='green', label='e=0 (greedy)')\n",
    "ax.plot(avg_ep01_R,  linewidth=0.5, color='blue',  label='e=0.1')\n",
    "ax.plot(avg_ep001_R, linewidth=0.5, color='red',   label='e=0.01')\n",
    "ax.set_ylabel('Average Reward')\n",
    "ax.xaxis.set_ticklabels([])\n",
    "ax.legend()\n",
    "\n",
    "ax = fig.add_subplot(212)\n",
    "ax.plot(opt_ep0_A,   linewidth=1., color='green', label='e=0 (greedy)')\n",
    "ax.plot(opt_ep01_A,  linewidth=1., color='blue',  label='e=0.1')\n",
    "ax.plot(opt_ep001_A, linewidth=1., color='red',   label='e=0.01')\n",
    "ax.set_xlabel('Steps'); ax.set_ylabel('% Optimal Action')\n",
    "\n",
    "plt.tight_layout()\n",
    "\n",
    "plt.savefig('figs/02-f-recreating-sb-fig-2_2.png')\n",
    "plt.show()"
   ]
  },
  {
   "attachments": {},
   "cell_type": "markdown",
   "metadata": {},
   "source": [
    "* Figure 2.2 compares a greedy method with two $\\varepsilon$-greedy methods ($\\varepsilon=0.01, \\varepsilon=0.1$).\n",
    "    - The upper graph shows the increase in expected reward with experience.\n",
    "        - The greedy method improved slightly faster than the other methods at the very beginning, but then leveled off at a lower level. It achieved a reward-per-step of only about 1, compared with the best possible of about 1.55 on this 10-armed bandit testbed.\n",
    "    - The lower graph shows that the greedy method found the optimal action in only approximately one-third of the tasks. In the other two-thirds, its initial samples of the optimal action were disappointing, and it never returned to it.\n",
    "* The $\\varepsilon$-greedy methods eventually performed better because they continued to explore and to improve their chances of recognizing the optimal action.\n",
    "* $\\varepsilon=0.1$  method explored more, and usually found the optimal action earlier, but it never selected that action more than 91% of time.\n",
    "* $\\varepsilon=0.01$  improved more slowly, but eventually would perform better than the $\\varepsilon=0.1$ method on both performance measures shown in the figure.\n",
    "* It is also possible to reduce $\\varepsilon$ over time to try to get the best of both high and low values for $\\varepsilon$ "
   ]
  },
  {
   "attachments": {},
   "cell_type": "markdown",
   "metadata": {},
   "source": [
    "## Greedy vs $\\varepsilon$-Greedy selection\n",
    "### Greedy (i.e., $\\varepsilon=0$)\n",
    "* If the reward variance = 0, greedy selection knows the true value of each action after trying it once.\n",
    "### $\\varepsilon$-Greedy, with $\\varepsilon>0$\n",
    "* With noiser rewards, it takes more exploration.\n",
    "* Non-stationary rewards."
   ]
  },
  {
   "attachments": {},
   "cell_type": "markdown",
   "metadata": {},
   "source": [
    "## Adjusting the Step-size for non-stationary rewards\n",
    "$$\n",
    "Q_{n+1} = Q_n + \\alpha\\left[R_n - Q_n\\right]\n",
    "$$\n",
    "\n",
    "* $\\alpha$ in $(0,1]$ is constant.\n",
    "    - It weighs how much we update our expectation of rewards after each button the agent presses (based on how recently the agent has pressed the button)\n",
    "* For $\\alpha = 1, R_n = 10, Q_n = 5$:\n",
    "    * $Q_{n+1} = Q_n + \\alpha\\left[R_n - Q_n\\right] = 5 + 1*(10-5) = 10$\n",
    "* For stepsize, $\\alpha=0.5$, we don't quite update the expectation of rewards after pressing the button all the way to 10, rather we update upto 7.5.\n",
    "* For $\\alpha = 0.5, R_n=10, Q_n=5$:\n",
    "    * $Q_{n+1} = Q_n + \\alpha\\left[R_n - Q_n\\right] = 5 + 0.5*(10-5) = 7.5$\n"
   ]
  },
  {
   "attachments": {},
   "cell_type": "markdown",
   "metadata": {},
   "source": [
    "## Exponential Recency-Weighted Average\n",
    "* This idea of unevently weighing most recently obtained rewards, compared to the overall average rewards, is known as the ``Exponential recency-weighted average``\n",
    "    - `recency` is the state of being recent.\n",
    "$$\n",
    "\\begin{array}\n",
    "\\nonumber Q_{n+1} &=& Q_n + \\alpha\\left[R_n - Q_n\\right]\\\\\n",
    "&=& \\alpha R_n + (1-\\alpha)Q_n\\\\\n",
    "&=& \\alpha R_n + (1-\\alpha)\\left[\\alpha R_{n-1} + (1-\\alpha)Q_{n-1}\\right]\\\\\n",
    "&=& \\alpha R_n + (1-\\alpha)\\alpha R_{n-1} + (1-\\alpha)^2Q_{n-1}\\\\\n",
    "&=& \\alpha R_n + (1-\\alpha)\\alpha R_{n-1} + (1-\\alpha)^2\\alpha R_{n-2} + \\cdots + (1-\\alpha)^{n-1}\\alpha R_1 + (1-\\alpha)^n Q_1\\\\\n",
    "&=& (1-\\alpha)^nQ_1 + \\sum_{i=1}^n \\alpha(1-\\alpha)^{n-i}R_i\n",
    "\\end{array}\n",
    "$$"
   ]
  },
  {
   "attachments": {},
   "cell_type": "markdown",
   "metadata": {},
   "source": [
    "* We call this ``weighted average`` because:\n",
    "    $$\n",
    "    (1-\\alpha)^n + \\sum_{i=1}^n\\alpha(1-\\alpha)^{n-i} = 1\n",
    "    $$\n",
    "    * Please prove it yourself.\n",
    "* Also note,\n",
    "    * The weight $\\alpha(1-\\alpha)^{n-i}$ on the reward $R_i$ at step $i$ depends on how many rewards ago, $n-i$, it was discovered.\n",
    "    * Since, $(1-\\alpha)<1$ means, weight of $R_i$ decreases as the number of interevening rewards increases.\n",
    "    * The weight decays exponentially according to the exponent on $1-\\alpha$.\n",
    "    * When, $1-\\alpha = 0$, all the weight goes on the very last rewards, $R_n$. [$1\\cdot 0^0 = 1$ at step $i=n$]\n"
   ]
  },
  {
   "attachments": {},
   "cell_type": "markdown",
   "metadata": {},
   "source": [
    "* Sometimes is it convenient to vary the step-size, $\\alpha$ from step to step.\n",
    "* Let, $\\alpha_n(a)$ = the step-size parameter used to process the reward received after the $n$-th selection of action $a$.\n",
    "* Note: $\\alpha_n(a) = \\dfrac{1}{n}$ results in the sample-average method.\n",
    "* If you plan on updating the stepsize, $\\alpha$ after every step, make sure the update follow the following two criteria in order to achieve convergence towards the true action values:\n",
    "$$\n",
    "\\text{Criterion 1}: \\qquad \\sum_{i=1}^\\infty \\alpha_n(a) = \\infty\n",
    "$$\n",
    "and \n",
    "$$\n",
    "\\text{Criterion 2}: \\qquad \\sum_{i=1}^\\infty \\alpha^2_n(a) < \\infty\n",
    "$$\n",
    "\n"
   ]
  },
  {
   "attachments": {},
   "cell_type": "markdown",
   "metadata": {},
   "source": [
    "### Notes on updating stepsize, $\\alpha$\n",
    "* **Example 1**:  Updating step size according to the sample averaging technique discussed before, i.e., $\\alpha_n(a) = \\dfrac{1}{n}$ satisfies both criteria above.\n",
    "* **Example 2**: if you would want to use a constant stepsize, $\\alpha_n(a) = \\alpha$, it does not satisfy the second criterion. That indicates that the estimates never completely converge but continue to vary in response to the most recently received rewards. That is, it may fail achieving good result in non-stationary reward environments.\n",
    "* ``Non-stationary environments are the most desirable in reinforcement learning.``\n",
    "* However, sequences of step-size parameters, $\\alpha_n(a)$ that meet the two criteria may sometime converge very slowly or need considerable tuning in order to obtain a satisfactory convergence rate."
   ]
  },
  {
   "attachments": {},
   "cell_type": "markdown",
   "metadata": {},
   "source": [
    "## Should you put extra effort for optimal initial $Q_1(a)$?\n",
    "* The answer is ``no``. -- that's a waste of time.\n"
   ]
  },
  {
   "attachments": {},
   "cell_type": "markdown",
   "metadata": {},
   "source": [
    "## UCD -- Upper-Confidence-Bound Action selection\n",
    "* Another technique for balancing ``exploitation`` and ``exploration``.\n",
    "* How should we select amongst non-greedy actions?\n",
    "* It would be better to weigh the actions based on how many times they have been tested and their previous returns\n",
    "$$\n",
    "A_t = \\underset{a}{\\text{arg max}} \\left[ Q_t(a) + c\\sqrt{\\dfrac{\\ln t}{N_t(a)}}\\right]\n",
    "$$\n",
    "* where, $\\ln t$ denotes the natural logarithm of time, $t$.\n",
    "* $N_t(a)$ denotes the number of times that action $a$ has been selected prior to time, $t$.\n",
    "* $c > 0$ controls the degree of exploration.\n",
    "\n",
    "* If $N_t(a) = 0$, then, $a$ is considered to be maximizing the action.\n",
    "* The square-root term is a measure of the uncertainty in the estimate of $a$'s value.\n",
    "* The quantity being max'ed over is thus a sort of upper bound on the possible true value of action $a$, with $c$ determining the confidence level.\n",
    "* So --\n",
    "    - Each time $a$ is selected, the uncertainty decreases, as $N_t(a)$ increments and it's in the denominator.\n",
    "    - Each time, an action other than $a$ is selected, time $t$ increases but $N_t(a)$ does not. Because, $\\ln t$ appears in the numerator, the uncertainty estimate increases.\n",
    "    - The use the natural logarithm means that the increases get smaller and smaller over time.\n",
    "    - The actions with lower value estimates, or that have already been selected frequently, will be selected with decreasing frequency over time."
   ]
  },
  {
   "attachments": {},
   "cell_type": "markdown",
   "metadata": {},
   "source": [
    "* UCB performs well than $\\varepsilon$-greedy.\n",
    "    - However, it's difficult than the $\\varepsilon$-greedy.\n",
    "    - One difficulty is: dealing with non-stationary problems.\n",
    "    - Another difficulty is: dealing with large state space.\n",
    "    - In more advanced RL settings the idea of UCB action selection is usually not practical."
   ]
  },
  {
   "attachments": {},
   "cell_type": "markdown",
   "metadata": {},
   "source": [
    "## Section 2.8 in the SB textbook will be elaborated when we talk about Policy Gradients.\n",
    "## Section 2.9 in the SB textbook is skipped. "
   ]
  },
  {
   "attachments": {},
   "cell_type": "markdown",
   "metadata": {},
   "source": [
    "## Fin!"
   ]
  },
  {
   "cell_type": "markdown",
   "metadata": {},
   "source": []
  }
 ],
 "metadata": {
  "kernelspec": {
   "display_name": "venv-RL-p3_10",
   "language": "python",
   "name": "python3"
  },
  "language_info": {
   "codemirror_mode": {
    "name": "ipython",
    "version": 3
   },
   "file_extension": ".py",
   "mimetype": "text/x-python",
   "name": "python",
   "nbconvert_exporter": "python",
   "pygments_lexer": "ipython3",
   "version": "3.10.6 (main, Aug 30 2022, 05:12:36) [Clang 13.1.6 (clang-1316.0.21.2.5)]"
  },
  "orig_nbformat": 4,
  "vscode": {
   "interpreter": {
    "hash": "f0d044cfbe36fedaf141d5cbffe72e237a0c848069c7254d26fd7b26944f9156"
   }
  }
 },
 "nbformat": 4,
 "nbformat_minor": 2
}
