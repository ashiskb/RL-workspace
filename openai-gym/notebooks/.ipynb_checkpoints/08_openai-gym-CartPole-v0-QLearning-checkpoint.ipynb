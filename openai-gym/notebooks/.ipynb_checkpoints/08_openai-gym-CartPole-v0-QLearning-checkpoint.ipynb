{
 "cells": [
  {
   "cell_type": "markdown",
   "metadata": {
    "slideshow": {
     "slide_type": "slide"
    }
   },
   "source": [
    "# OpenAI Gym env: `CartPole-v0`\n",
    "### An Intelligent agent with Q-learning\n"
   ]
  },
  {
   "cell_type": "markdown",
   "metadata": {
    "slideshow": {
     "slide_type": "skip"
    }
   },
   "source": [
    "## The Imports"
   ]
  },
  {
   "cell_type": "code",
   "execution_count": 13,
   "metadata": {
    "slideshow": {
     "slide_type": "skip"
    }
   },
   "outputs": [
    {
     "name": "stdout",
     "output_type": "stream",
     "text": [
      "zsh:1: no matches found: gym[pong]\n"
     ]
    }
   ],
   "source": [
    "#!setopt no_nomatch\n",
    "#!pip install gym[pong]"
   ]
  },
  {
   "cell_type": "code",
   "execution_count": 1,
   "metadata": {
    "slideshow": {
     "slide_type": "skip"
    }
   },
   "outputs": [],
   "source": [
    "import gym\n",
    "import math\n",
    "import imageio.v2 as imageio\n",
    "import os\n",
    "import numpy as np\n",
    "from tqdm import tqdm\n",
    "import matplotlib.pyplot as plt\n",
    "from joblib import load, dump"
   ]
  },
  {
   "cell_type": "markdown",
   "metadata": {
    "slideshow": {
     "slide_type": "slide"
    }
   },
   "source": [
    "## Making of an Intelligent CartPole-v0 agent\n",
    "![CartPole-v0-Qlearning](../video/CartPole-v0-QLearning.gif)"
   ]
  },
  {
   "cell_type": "markdown",
   "metadata": {
    "slideshow": {
     "slide_type": "slide"
    }
   },
   "source": [
    "![elements of Reinforcement Learning](figs/elements-RL.png)"
   ]
  },
  {
   "cell_type": "markdown",
   "metadata": {
    "slideshow": {
     "slide_type": "slide"
    }
   },
   "source": [
    "![Agent-environment loop](figs/elements-RL-1.png)"
   ]
  },
  {
   "cell_type": "markdown",
   "metadata": {
    "slideshow": {
     "slide_type": "slide"
    }
   },
   "source": [
    "![elements of Reinforcement Learning](figs/elements-RL-2.png)"
   ]
  },
  {
   "cell_type": "markdown",
   "metadata": {
    "slideshow": {
     "slide_type": "slide"
    }
   },
   "source": [
    "![principles of Reinforcement Learning](figs/principles-RL-1.png)"
   ]
  },
  {
   "cell_type": "markdown",
   "metadata": {
    "slideshow": {
     "slide_type": "slide"
    }
   },
   "source": [
    "![principles of Reinforcement Learning](figs/principles-RL-2.png)"
   ]
  },
  {
   "cell_type": "markdown",
   "metadata": {
    "slideshow": {
     "slide_type": "slide"
    }
   },
   "source": [
    "![Q-value](figs/Q_value-1.png)"
   ]
  },
  {
   "cell_type": "markdown",
   "metadata": {
    "slideshow": {
     "slide_type": "slide"
    }
   },
   "source": [
    "![Q-value](figs/Q_value-2.png)"
   ]
  },
  {
   "cell_type": "code",
   "execution_count": 1,
   "metadata": {
    "slideshow": {
     "slide_type": "skip"
    }
   },
   "outputs": [],
   "source": [
    "#The imports\n",
    "import gym\n",
    "import math\n",
    "import imageio.v2 as imageio\n",
    "import os\n",
    "import numpy as np\n",
    "from tqdm import tqdm\n",
    "import matplotlib.pyplot as plt\n",
    "from joblib import load, dump"
   ]
  },
  {
   "cell_type": "markdown",
   "metadata": {
    "slideshow": {
     "slide_type": "slide"
    }
   },
   "source": [
    "### Idea 1: Discretizing continuous state space"
   ]
  },
  {
   "cell_type": "code",
   "execution_count": 51,
   "metadata": {},
   "outputs": [],
   "source": [
    "def discretize_state(state, env, buckets=(1,1,6,12)):\n",
    "    \"\"\"    \n",
    "    The problem: The original states in this game are continuous, which does not work with the basic Q-learning algorithm as it expects discrete states. By the way, a slightly advanced Q-learning strategy can work with continuous state space with the help of approximation. Let's leave that strategy out of the scope of this course! Sorry. please enroll the \"AI with Reinforcement Learning\" course in Spring'23 with Dr. B. Purpose of this function is to discretize the continuous state space into buckets. \n",
    "\n",
    "    :param state: current state's observation which needs discretizing\n",
    "    :type state: 4-D float array\n",
    "    :param env: the cartpole environment\n",
    "    :type env: environment object returned most likely from a gym.make() call.\n",
    "    :param buckets: this will be used to discretize the original continuous states in this Cartpole example, defaults to (1,1,6,12)\n",
    "    :type buckets: tuple, optional\n",
    "    :return: The discretized state space in the given buckets\n",
    "    :rtype: tuple\n",
    "    \"\"\"\n",
    "    ## [position of cart, velocity of cart, angle of pole, rotation rate of pole]\n",
    "    ## i) x-coordinate of the pole's center of mass (i.e., cart position), unit: m\n",
    "    ## ii) Cart velocity [-inf, inf], unit: m/s\n",
    "    ## iii) the pole's angle to the cart/platform. the pole angle in radians (1 radian = 57.295 degrees); \n",
    "    ## iv) the pole's angular velocity [-inf, inf], unit: radian/s\n",
    "    \n",
    "\n",
    "    # Revising the upper and the lower bounds for the discretization\n",
    "    # Please note: cart velocity upper and lower bounds are 3.4e38 (inf), -3.4e38 (-inf). That's a huge space!\n",
    "    # Let's shrink it down to [0.5, -0.5]\n",
    "\n",
    "    # Also note: pole's angular velocity upper and lower bounds are 3.4e38 (inf), -3.4e38 (-inf). That's also a huge space!\n",
    "    # Let's shrink it down to [50 degrees/1 sec, -50 degrees/1 sec]\n",
    "    \n",
    "    upper_bounds = [env.observation_space.high[0], 0.5, env.observation_space.high[2], math.radians(50) / 1.]\n",
    "    lower_bounds = [env.observation_space.low[0], -0.5, env.observation_space.low[2], -math.radians(50) / 1.]\n",
    "\n",
    "    # state is the native state representations produced by env\n",
    "    ratios = [(state[i] + abs(lower_bounds[i])) / (upper_bounds[i] - lower_bounds[i]) for i in range(len(state))]\n",
    "    \n",
    "    # state_ is discretized state representation used for Q-table later\n",
    "    state_ = [int(round((buckets[i] - 1) * ratios[i])) for i in range(len(state))]\n",
    "    state_ = [min(buckets[i] - 1, max(0, state_[i])) for i in range(len(state))]\n",
    "\n",
    "    return tuple(state_) "
   ]
  },
  {
   "cell_type": "markdown",
   "metadata": {
    "slideshow": {
     "slide_type": "slide"
    }
   },
   "source": [
    "### Idea 2: `act` with `Epsilon-greedy policy`"
   ]
  },
  {
   "cell_type": "code",
   "execution_count": 52,
   "metadata": {},
   "outputs": [],
   "source": [
    "def epsilon_greedy_policy(state, env, Q_table, exploration_rate):\n",
    "    \"\"\"This is an epsilon greedy policy. \n",
    "    In other words, most of the times the agent chooses the action that maximizes the \n",
    "    reward given state (greedily). But occassionally (controlled by the exploration_rate), \n",
    "    the agent chooses a random action which makes sure the agent balances between \n",
    "    exploitation and exploration\n",
    "\n",
    "    :param state: the current state the agent is at.\n",
    "    :type state: same as state\n",
    "    :param env: the CartPole environment\n",
    "    :type env: environment type returned perhaps from gym.make() call.\n",
    "    :param Q_table: a table-like structure\n",
    "    :type Q_table: same as Q_table\n",
    "    :param exploration_rate: exploration rate\n",
    "    :type exploration_rate: a small number close to 0.\n",
    "    :return: action to be taken in the next step\n",
    "    :rtype: between any value in the action_space. E.g., {0 (left), 1 (right)}\n",
    "    \"\"\"\n",
    "    if (np.random.random() < exploration_rate):\n",
    "        # Generates numbers np.random.random() uniformly between 0-1\n",
    "        # This samples a random action given the environment\n",
    "        return env.action_space.sample()\n",
    "    else:\n",
    "        # Choose greedily the action which gives the highest expected reward\n",
    "        # given the current state\n",
    "        return np.argmax(Q_table[state])\n"
   ]
  },
  {
   "cell_type": "markdown",
   "metadata": {
    "slideshow": {
     "slide_type": "slide"
    }
   },
   "source": [
    "### Idea 3: Learning rate decay strategy"
   ]
  },
  {
   "cell_type": "code",
   "execution_count": 53,
   "metadata": {
    "slideshow": {
     "slide_type": "skip"
    }
   },
   "outputs": [],
   "source": [
    "def get_rate_with_decay(t, decay_rate=25.0):\n",
    "    \"\"\"Get the learning rate or exploration_rate given an episode subject to decay. \n",
    "    Given the current episode number and the rate has a tendency to decrease with increasing number of episodes.\n",
    "\n",
    "    :param t: episode number\n",
    "    :type t: int\n",
    "    :param decay_rate: decay rate, defaults to 25%\n",
    "    :type decay_rate: float\n",
    "    :return: decayed alpha value\n",
    "    :rtype: float\n",
    "    \"\"\"\n",
    "    decayed_alpha = max(0.1, min(1., 1. - np.log10((t + 1) / decay_rate)))\n",
    "    return decayed_alpha"
   ]
  },
  {
   "cell_type": "markdown",
   "metadata": {
    "slideshow": {
     "slide_type": "slide"
    }
   },
   "source": [
    "![explore-exploit](figs/explore_exploit.png)"
   ]
  },
  {
   "cell_type": "code",
   "execution_count": 54,
   "metadata": {
    "slideshow": {
     "slide_type": "slide"
    }
   },
   "outputs": [],
   "source": [
    "def update_epsilon(current_epsilon, decay_rate=0.99, epsilon_minimum=0.1):\n",
    "    \"\"\"Update exploration rate (epsilon) based on a decay rate per episode. \n",
    "    \n",
    "    :param current_epsilon: current value of the exploration rate.\n",
    "    :type current_epsilon: float\n",
    "    :param decay_rate: decay rate. Exploration rate decays by this factor every episode.\n",
    "    :type decay_rate: float, default 0.9\n",
    "    :param epsilon_minimum: exploration_rate won't go below this set minimum.\n",
    "    :type epsilon_minimum: float, defaults to 0.1 \n",
    "    \"\"\"\n",
    "    if current_epsilon * decay_rate > epsilon_minimum:\n",
    "        return current_epsilon * decay_rate\n",
    "    else:\n",
    "        return epsilon_minimum"
   ]
  },
  {
   "cell_type": "markdown",
   "metadata": {
    "slideshow": {
     "slide_type": "slide"
    }
   },
   "source": [
    "### Idea 4: Update Q-table (for one step)"
   ]
  },
  {
   "cell_type": "markdown",
   "metadata": {
    "slideshow": {
     "slide_type": "-"
    }
   },
   "source": [
    "## Solving Bellman Equation with Dynamic Programming \n",
    "![Q-value](figs/Q_value-2.png)"
   ]
  },
  {
   "cell_type": "markdown",
   "metadata": {
    "slideshow": {
     "slide_type": "slide"
    }
   },
   "source": [
    "## Temporal Difference Learning (TD ($\\lambda=0$))\n",
    "* Temporal-Difference learning = TD learning\n",
    "* Learns from partial returns.\n",
    "* The learned action-value function $Q$ directly approximates the optimal action-value function $Q*$ independent of the policy being followed.\n",
    "* In update rule, choose action a that maximizes $Q$ given $S_{t+1}$ and use the resulting Q-value (i.e. estimated value given by optimal action-value function) plus the observed reward as the target\n",
    "* This method is off-policy because we do not have a fixed policy that maps from states to actions. \n",
    "* This is why $A_{t+1}$ is not used in the update rule\n",
    "\n",
    "![TD](figs/TD.png)"
   ]
  },
  {
   "cell_type": "code",
   "execution_count": 55,
   "metadata": {
    "slideshow": {
     "slide_type": "slide"
    }
   },
   "outputs": [],
   "source": [
    "def update_Q(Q_table, state, action, reward, new_state, alpha, gamma,strategy_type=\"DP\"):\n",
    "    \"\"\"Q-learning update step.\n",
    "\n",
    "    :param Q_table: a table-like structure with N rows for states and M columns for actions\n",
    "    :type Q_table: numpy array of shape (shape(discretized_state_space),shape(action_space)). Example: (1,1,6,12,2), where (1,1,6,12) is the shape of discretized state space, and (2,) is the shape of action space.\n",
    "    :param state: the current state the agent is at time step t.\n",
    "    :type state: numpy array of shape(discretized_state_space)\n",
    "    :param action: the action taken given the previous state at time step t\n",
    "    :type action: int\n",
    "    :param reward: reward collected as a result of that action at time step t\n",
    "    :type reward: int\n",
    "    :param new_state: the new state at time-step t+1\n",
    "    :type new_state: same as state\n",
    "    :param alpha: learning rate\n",
    "    :type alpha: float\n",
    "    :param gamma: discount factor\n",
    "    :type gamma: float\n",
    "    :param strategy_type: Q_table update strategy. Currently supported: {DP, TD_0}\n",
    "    :type strategy_type: str\n",
    "    :return: updated Q_table\n",
    "    :rtype: same shape of the given Q_table\n",
    "    \"\"\"\n",
    "    \n",
    "    if strategy_type==\"DP\":\n",
    "        #Strategy 1: DP\n",
    "        Q_table[state][action] = Q_table[state][action] + reward + gamma * np.amax(Q_table[new_state])\n",
    "    elif strategy_type==\"TD_0\":\n",
    "        #Strategy 2: Off-policy Temporal Difference (lambda = 0)\n",
    "        Q_table[state][action] = Q_table[state][action] +                        \\\n",
    "                    alpha * (                                                    \\\n",
    "                                reward + gamma * np.max(Q_table[new_state]) -    \\\n",
    "                                Q_table[state][action]                           \\\n",
    "                            )\n",
    "    return Q_table"
   ]
  },
  {
   "cell_type": "markdown",
   "metadata": {
    "slideshow": {
     "slide_type": "slide"
    }
   },
   "source": [
    "### Idea 5: Q-learning ==> combining all the previous 4 ideas"
   ]
  },
  {
   "cell_type": "code",
   "execution_count": 56,
   "metadata": {},
   "outputs": [],
   "source": [
    "def Q_learning(env, num_episodes, gamma=0.9,strategy_type=\"DP\"):\n",
    "    \"\"\"Training the agent with Q-learning with respect to pseudocode in Algorithm 1\n",
    "\n",
    "    :param env: the cartpole environment\n",
    "    :type env: environment object likely returned from a gym.make() call.\n",
    "    :param num_episodes: the number of episodes for which to train\n",
    "    :type num_episodes: int\n",
    "    :param gamma: Discount factor gamma represents how much does the agent value future rewards as opposed to immediate rewards.\n",
    "    :type gamma: float\n",
    "    :param strategy_type: Q_table update strategy. Currently supported: {DP, TD_0}\n",
    "    :type strategy_type: str\n",
    "    :return: The optimized Q-table\n",
    "    :rtype: (dim(discretized_state_space)+dim(action_space)), e.g., (1,1,6,12,2) in CartPole-v0\n",
    "    :return: A list containing the total cummulative reward for each episode of training.\n",
    "    :rtype: list of length==num_episodes\n",
    "    \"\"\"\n",
    "\n",
    "    # (1, 1, 6, 12) represents the discretization buckets.\n",
    "    # Initialize the Q-table as full of zeros at the start.\n",
    "    # Shape of Q_table would be = (1,1,6,12,  2), as there are 2 actions.\n",
    "    Q_table = np.zeros((1, 1, 6, 12) + (env.action_space.n,))\n",
    "\n",
    "    # Create a list to store the accumulated reward per each episode\n",
    "    total_reward = []\n",
    "    \n",
    "    #Initially, we set 90% exploration, 10% exploitation\n",
    "    alpha = exploration_rate = 0.9 \n",
    "    \n",
    "    for e in tqdm(range(num_episodes)):\n",
    "\n",
    "        # Reset the environment for a new episode, get the default state S_0\n",
    "        state,info = env.reset()\n",
    "        #convert the continuous state to discrete state\n",
    "        state = discretize_state(state, env)\n",
    "\n",
    "        # Adjust the alpha and the exploration rate, it is a coincidence they are the same.\n",
    "        #alpha = exploration_rate = get_rate_with_decay(e)\n",
    "        alpha = exploration_rate = update_epsilon(exploration_rate)\n",
    "        \n",
    "        # Initialize the current episode reward to 0 \n",
    "        episode_reward = 0\n",
    "        done = False\n",
    "        while done is False:\n",
    "            # Choose the action A_{t} based on the policy\n",
    "            action = epsilon_greedy_policy(state, env, Q_table, exploration_rate)\n",
    "\n",
    "            # Get the new state (S_{t+1}), reward (R_{t+1}), end signal\n",
    "            new_state, reward, done, _, _ = env.step(action)\n",
    "            #convert the continuous state to discrete state\n",
    "            new_state = discretize_state(new_state, env)\n",
    "\n",
    "            # Update Q-table via update_q(Q_table, S_{t}, A_{t}, R_{t+1}, S_{t+1}, alpha, gamma) \n",
    "            Q_table = update_Q(Q_table, state, action, reward, new_state, alpha, gamma,strategy_type=\"TD_0\")\n",
    "\n",
    "            # Update the state S_{t} = S_{t+1}\n",
    "            state = new_state\n",
    "            \n",
    "            # Accumulate the reward\n",
    "            episode_reward += reward\n",
    "        \n",
    "        total_reward.append(episode_reward)\n",
    "    print('Finished training!')\n",
    "    return Q_table, total_reward\n"
   ]
  },
  {
   "cell_type": "markdown",
   "metadata": {
    "slideshow": {
     "slide_type": "slide"
    }
   },
   "source": [
    "## Okay, Let's train the Q-learning agent"
   ]
  },
  {
   "cell_type": "code",
   "execution_count": 57,
   "metadata": {},
   "outputs": [],
   "source": [
    "#Now, let's begin train\n",
    "# OpenAI Gym builds the environment for us including all the rules, dynamics etc.\n",
    "env = gym.make('CartPole-v0',render_mode='rgb_array')\n",
    "\n",
    "#you can tune verbosity of cell executions\n",
    "verbose = True\n",
    "\n",
    "# How long do we want the agent to explore and learn?\n",
    "num_episodes = 2000"
   ]
  },
  {
   "cell_type": "code",
   "execution_count": 58,
   "metadata": {
    "scrolled": true,
    "slideshow": {
     "slide_type": "slide"
    }
   },
   "outputs": [
    {
     "name": "stderr",
     "output_type": "stream",
     "text": [
      "100%|███████████████████████████████████████| 2000/2000 [00:32<00:00, 61.07it/s]"
     ]
    },
    {
     "name": "stdout",
     "output_type": "stream",
     "text": [
      "Finished training!\n"
     ]
    },
    {
     "name": "stderr",
     "output_type": "stream",
     "text": [
      "\n"
     ]
    }
   ],
   "source": [
    "# Let us use Q-learning to learn best policy\n",
    "Q_table, total_reward = Q_learning(env, num_episodes,gamma=0.98,strategy_type=\"TD_0\")"
   ]
  },
  {
   "cell_type": "code",
   "execution_count": 59,
   "metadata": {
    "slideshow": {
     "slide_type": "slide"
    }
   },
   "outputs": [
    {
     "data": {
      "image/png": "[encoded data removed]",
      "text/plain": [
       "<Figure size 640x480 with 1 Axes>"
      ]
     },
     "metadata": {},
     "output_type": "display_data"
    },
    {
     "name": "stdout",
     "output_type": "stream",
     "text": [
      "[[[[[ 0.          0.        ]\n",
      "    [ 0.          0.        ]\n",
      "    [ 0.          0.        ]\n",
      "    [ 0.          0.        ]\n",
      "    [ 0.          0.        ]\n",
      "    [ 0.          0.        ]\n",
      "    [ 0.          0.        ]\n",
      "    [ 0.          0.        ]\n",
      "    [ 0.          0.        ]\n",
      "    [ 0.          0.        ]\n",
      "    [ 0.          0.        ]\n",
      "    [ 0.          0.        ]]\n",
      "\n",
      "   [[ 2.70408597  9.64496904]\n",
      "    [49.00144945  0.        ]\n",
      "    [49.88874131  4.30861918]\n",
      "    [49.97626702 24.14109031]\n",
      "    [49.98859848 41.88358622]\n",
      "    [49.99153842 49.01711496]\n",
      "    [49.99139464 48.95335956]\n",
      "    [48.87825104 49.99428121]\n",
      "    [49.99207491 40.37530349]\n",
      "    [13.29533448 49.99031987]\n",
      "    [ 6.53277451  0.        ]\n",
      "    [ 3.98219258  0.        ]]\n",
      "\n",
      "   [[48.40916277 42.11095977]\n",
      "    [49.9922094  46.96357734]\n",
      "    [49.99863437 43.44148122]\n",
      "    [49.99866166 49.89178472]\n",
      "    [49.99893974 49.99815593]\n",
      "    [49.99892556 49.99811795]\n",
      "    [49.99096    49.99893616]\n",
      "    [49.99486232 49.99891513]\n",
      "    [49.48134264 49.99868327]\n",
      "    [43.20313284 49.99881413]\n",
      "    [35.42854852 49.70934626]\n",
      "    [40.41165784 27.2874089 ]]\n",
      "\n",
      "   [[48.68321368  4.99994069]\n",
      "    [49.97471504 47.83476542]\n",
      "    [49.99846259 48.41996904]\n",
      "    [49.99857289 49.98202512]\n",
      "    [49.99786047 49.99840385]\n",
      "    [49.83425146 49.99839735]\n",
      "    [49.09171443 49.99852238]\n",
      "    [49.5477807  49.99874038]\n",
      "    [42.5824635  47.92631012]\n",
      "    [39.02246578 49.91128642]\n",
      "    [35.15227599 47.86483709]\n",
      "    [37.37819759 46.28121811]]\n",
      "\n",
      "   [[ 0.          0.        ]\n",
      "    [ 0.          0.        ]\n",
      "    [ 0.          0.        ]\n",
      "    [ 0.          0.        ]\n",
      "    [ 0.          0.        ]\n",
      "    [ 0.          0.        ]\n",
      "    [ 2.21206674  0.        ]\n",
      "    [ 2.14415181  0.        ]\n",
      "    [ 7.26272116  0.20817124]\n",
      "    [15.53140982  0.        ]\n",
      "    [12.2811394   0.        ]\n",
      "    [36.07665103 30.58449748]]\n",
      "\n",
      "   [[ 0.          0.        ]\n",
      "    [ 0.          0.        ]\n",
      "    [ 0.          0.        ]\n",
      "    [ 0.          0.        ]\n",
      "    [ 0.          0.        ]\n",
      "    [ 0.          0.        ]\n",
      "    [ 0.          0.        ]\n",
      "    [ 0.          0.        ]\n",
      "    [ 0.          0.        ]\n",
      "    [ 0.          0.        ]\n",
      "    [ 0.          0.        ]\n",
      "    [ 0.          0.        ]]]]] (1, 1, 6, 12, 2)\n"
     ]
    },
    {
     "data": {
      "text/plain": [
       "['joblibs/Q_table.joblib']"
      ]
     },
     "execution_count": 59,
     "metadata": {},
     "output_type": "execute_result"
    }
   ],
   "source": [
    "if verbose:\n",
    "    #Plot\n",
    "    plt.plot(range(num_episodes), total_reward)\n",
    "    plt.xlabel('Episode')\n",
    "    plt.ylabel('Training cumulative reward')\n",
    "    plt.show()\n",
    "\n",
    "    print(Q_table, Q_table.shape)\n",
    "\n",
    "#Saving the Q table for later use.\n",
    "dump(Q_table,'joblibs/Q_table.joblib')"
   ]
  },
  {
   "cell_type": "code",
   "execution_count": 60,
   "metadata": {
    "slideshow": {
     "slide_type": "slide"
    }
   },
   "outputs": [],
   "source": [
    "#Don't forget to close the gym environment\n",
    "env.close()"
   ]
  },
  {
   "cell_type": "markdown",
   "metadata": {
    "slideshow": {
     "slide_type": "slide"
    }
   },
   "source": [
    "### Evaluating Q-learning agent after training"
   ]
  },
  {
   "cell_type": "markdown",
   "metadata": {
    "slideshow": {
     "slide_type": "skip"
    }
   },
   "source": [
    "#### The imports"
   ]
  },
  {
   "cell_type": "code",
   "execution_count": 61,
   "metadata": {
    "slideshow": {
     "slide_type": "skip"
    }
   },
   "outputs": [],
   "source": [
    "import gym\n",
    "import math\n",
    "import imageio.v2 as imageio\n",
    "import os\n",
    "import numpy as np\n",
    "from tqdm import tqdm\n",
    "import matplotlib.pyplot as plt\n",
    "from joblib import load, dump"
   ]
  },
  {
   "cell_type": "code",
   "execution_count": 62,
   "metadata": {
    "slideshow": {
     "slide_type": "slide"
    }
   },
   "outputs": [],
   "source": [
    "#Let's run one episode\n",
    "\n",
    "max_episode_length = 400 \n",
    "#Duh! You wish!! It depends on how good your agent learned during training. \n",
    "\n",
    "\n",
    "\n",
    "# This way we can test the agent's recently learned policy with the saved Q_table\n",
    "Q_table = load('joblibs/Q_table.joblib')"
   ]
  },
  {
   "cell_type": "code",
   "execution_count": 63,
   "metadata": {
    "slideshow": {
     "slide_type": "slide"
    }
   },
   "outputs": [],
   "source": [
    "##test and visualization!\n",
    "\n",
    "# Don't forget to switch to render_mode='rgb_array', otherwise env.render() will return None.\n",
    "env = gym.make('CartPole-v0',render_mode='rgb_array')"
   ]
  },
  {
   "cell_type": "code",
   "execution_count": 64,
   "metadata": {},
   "outputs": [],
   "source": [
    "# Initialize the reward\n",
    "episode_reward = 0\n",
    "\n",
    "# Count how many times the agent went right and how many times it went left\n",
    "right = 0\n",
    "left = 0\n",
    "\n",
    "# Initialize empty buffer for the images that will be stiched to a gif\n",
    "# Create a temp directory\n",
    "filenames = []"
   ]
  },
  {
   "cell_type": "code",
   "execution_count": 65,
   "metadata": {
    "slideshow": {
     "slide_type": "slide"
    }
   },
   "outputs": [],
   "source": [
    "#Create a temp directory for saving snapshots of environments\n",
    "try:\n",
    "    os.mkdir(\"./temp\")\n",
    "except:\n",
    "    pass"
   ]
  },
  {
   "cell_type": "code",
   "execution_count": 66,
   "metadata": {
    "slideshow": {
     "slide_type": "slide"
    }
   },
   "outputs": [],
   "source": [
    "# Test the trained agent in a completely fresh start environment\n",
    "state,info = env.reset()\n",
    "# Don't forget to discretize the state_space the same way you did to train the agent\n",
    "state = discretize_state(state, env)"
   ]
  },
  {
   "cell_type": "code",
   "execution_count": 67,
   "metadata": {
    "slideshow": {
     "slide_type": "slide"
    }
   },
   "outputs": [
    {
     "name": "stderr",
     "output_type": "stream",
     "text": [
      " 55%|██████████████████████▎                  | 218/400 [00:36<00:30,  6.04it/s]"
     ]
    },
    {
     "name": "stdout",
     "output_type": "stream",
     "text": [
      "Test episode finished at step 219 with a total reward of: 219.0\n",
      "We moved 105 times right and 114 times left\n"
     ]
    },
    {
     "name": "stderr",
     "output_type": "stream",
     "text": [
      "\n"
     ]
    }
   ],
   "source": [
    "# Run for maximum of max_episode_length steps which is the limit of the game\n",
    "for step in tqdm(range(max_episode_length)):\n",
    "\n",
    "    # Plot the previous state and save it as an image that \n",
    "    # will be later patched together sa a .gif\n",
    "    img = plt.imshow(env.render())\n",
    "\n",
    "    plt.title(\"Step: {}\".format(step))\n",
    "    plt.axis('off')\n",
    "    plt.savefig(\"./temp/{}.png\".format(step))\n",
    "    plt.close()\n",
    "    filenames.append(\"./temp/{}.png\".format(step))\n",
    "            \n",
    "    # Here we set the exploration rate to 0.0 as we want to avoid any random exploration.\n",
    "    # That is, we want the agent fully depends on its learned policy (+Q_table)\n",
    "    action = epsilon_greedy_policy(state, env, Q_table, exploration_rate=0.0)\n",
    "\n",
    "    #Just for statistics purpose\n",
    "    right+=1 if action == 1 else 0\n",
    "    left+=1 if action == 0 else 0\n",
    "\n",
    "    #Apply the next step\n",
    "    new_state, reward, done, _ , _ = env.step(action)\n",
    "    #Don't forget to discretize new_state\n",
    "    new_state = discretize_state(new_state, env)\n",
    "    state = new_state\n",
    "\n",
    "    #Collect/accumulate reward\n",
    "    episode_reward += reward\n",
    "\n",
    "    # At the end of the episode print the total reward, \n",
    "    # only the agent is done before the set max_episode_length steps.\n",
    "    # If your agent was trained well, who knows, the following would never happen! Haha\n",
    "    if done:\n",
    "        print(f'Test episode finished at step {step+1} with a total reward of: {episode_reward}')\n",
    "        print(f'We moved {right} times right and {left} times left')\n",
    "        break"
   ]
  },
  {
   "cell_type": "code",
   "execution_count": 68,
   "metadata": {
    "slideshow": {
     "slide_type": "slide"
    }
   },
   "outputs": [],
   "source": [
    "# Stitch the images together to produce a .gif\n",
    "with imageio.get_writer('../video/CartPole-v0-QLearning.gif', mode='I') as writer:\n",
    "    for filename in filenames:\n",
    "        image = imageio.imread(filename)\n",
    "        writer.append_data(image)"
   ]
  },
  {
   "cell_type": "code",
   "execution_count": 69,
   "metadata": {
    "slideshow": {
     "slide_type": "slide"
    }
   },
   "outputs": [],
   "source": [
    "# Cleanup the images for the next run\n",
    "for f in filenames:\n",
    "    os.remove(f)"
   ]
  },
  {
   "cell_type": "code",
   "execution_count": 70,
   "metadata": {
    "slideshow": {
     "slide_type": "slide"
    }
   },
   "outputs": [],
   "source": [
    "# Close the environment\n",
    "env.close()"
   ]
  },
  {
   "cell_type": "markdown",
   "metadata": {},
   "source": [
    "![CartPole-v0-Qlearning](../video/CartPole-v0-QLearning.gif)"
   ]
  },
  {
   "cell_type": "markdown",
   "metadata": {
    "slideshow": {
     "slide_type": "slide"
    }
   },
   "source": [
    "# Thanks for your attention"
   ]
  }
 ],
 "metadata": {
  "celltoolbar": "Slideshow",
  "kernelspec": {
   "display_name": "Python 3 (ipykernel)",
   "language": "python",
   "name": "python3"
  },
  "language_info": {
   "codemirror_mode": {
    "name": "ipython",
    "version": 3
   },
   "file_extension": ".py",
   "mimetype": "text/x-python",
   "name": "python",
   "nbconvert_exporter": "python",
   "pygments_lexer": "ipython3",
   "version": "3.10.6"
  },
  "rise": {
   "enable_chalkboard": true,
   "height": 855,
   "progress": true,
   "scroll": true,
   "slideNumber": true,
   "start_slideshow_at": "selected",
   "width": 1280
  },
  "vscode": {
   "interpreter": {
    "hash": "916dbcbb3f70747c44a77c7bcd40155683ae19c65e1c03b4aa3499c5328201f1"
   }
  }
 },
 "nbformat": 4,
 "nbformat_minor": 2
}
