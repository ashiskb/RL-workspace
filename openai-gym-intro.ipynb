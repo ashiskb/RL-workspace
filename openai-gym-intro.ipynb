{
 "cells": [
  {
   "cell_type": "markdown",
   "metadata": {},
   "source": [
    "# Introduction to OpenAI Gym\n",
    "## About Gym\n",
    "`Gym` is an open source Python library for developing and comparing `reinforcement learning` algorithms by providing a standard API to communicate between learning algorithms and environments, as well as a standard set of environments compliant with that API. \n",
    "* `Gym` documentation website is located [here](https://www.gymlibrary.dev/). \n",
    "* `Gym` also has a discord server for development purposes that you can join [here](https://discord.gg/nHg2JRN489).\n",
    "* `Gym`'s official developer site is [here](https://github.com/openai/gym).\n"
   ]
  },
  {
   "cell_type": "markdown",
   "metadata": {},
   "source": [
    "## Installation\n",
    "* `pip install gym`\n",
    "\n",
    "This does not include dependencies for all families of environments (there's a massive number, and some can be problematic to install on certain systems). You can install these dependencies for one family like `pip install gym[atari]` or use the following to install all dependencies.: \n",
    "* `pip install gym[all]`\n",
    "\n",
    "If the above pip install throws a bash/zsh error, it might be the subscripts not allowed there. You need to set option for that.\n",
    "* `setopt no_nomatch`\n",
    "\n",
    "Then run again."
   ]
  },
  {
   "cell_type": "markdown",
   "metadata": {},
   "source": [
    "## The Imports"
   ]
  },
  {
   "cell_type": "code",
   "execution_count": 13,
   "metadata": {},
   "outputs": [
    {
     "name": "stdout",
     "output_type": "stream",
     "text": [
      "zsh:1: no matches found: gym[pong]\n"
     ]
    }
   ],
   "source": [
    "#!setopt no_nomatch\n",
    "#!pip install gym[pong]"
   ]
  },
  {
   "cell_type": "code",
   "execution_count": 27,
   "metadata": {},
   "outputs": [],
   "source": [
    "import gym\n",
    "import math\n",
    "import imageio.v2 as imageio\n",
    "import os\n",
    "import numpy as np\n",
    "from tqdm import tqdm\n",
    "import matplotlib.pyplot as plt\n",
    "from joblib import load, dump"
   ]
  },
  {
   "cell_type": "markdown",
   "metadata": {},
   "source": [
    "## Listing available `gym` environments\n",
    "\n",
    "```python\n",
    "#!/Users/ashis/venv-directory/venv-ml-p3.10/bin/python3.10\n",
    "#Please make this python file executable and then run it without passing it to python interpreter\n",
    "#as the the interpreter listed on the first line will be invoked. Good luck!\n",
    "#$ chmod +x list_all_envs_registry.py\n",
    "#$ ./list_all_envs_registry.py\n",
    "\n",
    "from gym import envs\n",
    "#all_envs = envs.registry.all()\n",
    "#env_ids = [env_spec.id for env_spec in all_envs]\n",
    "#pprint(sorted(env_ids))\n",
    "for key in envs.registry.keys():\n",
    "    print(key)\n",
    "```"
   ]
  },
  {
   "cell_type": "markdown",
   "metadata": {},
   "source": [
    "## Interacting with the Environment\n",
    "Gym implements the classic “agent-environment loop”:\n",
    "\n",
    "<img src=\"https://www.gymlibrary.dev/_images/AE_loop_dark.png\" style=\"background-color:black;\" width=300>\n",
    "\n",
    "The agent performs some `actions` in the environment (usually by passing some control inputs to the environment, e.g. torque inputs of motors) and observes how the `environment’s state` changes. One such action-observation exchange is referred to as a `timestep`.\n",
    "\n",
    "The goal in Reinforcement Learning (RL) is to manipulate the `environment` in some specific way. \n",
    "\n",
    "For instance, we want the agent to navigate a robot to a specific point in space. \n",
    "* If it succeeds in doing this (or makes some progress towards that goal), it will receive a `positive reward` alongside the observation for this `timestep`. \n",
    "* The reward may also be negative or 0, if the agent did not yet succeed (or did not make any progress). \n",
    "* The agent will then be trained to maximize the reward it accumulates over many timesteps.\n",
    "* After some timesteps, the environment may enter a terminal state. \n",
    "    * For instance, the robot may have crashed! In that case, we want to `reset the environment` to a new initial state. The environment issues a done signal to the agent if it enters such a terminal state. \n",
    "    * Not all done signals must be triggered by a “catastrophic failure”: Sometimes we also want to issue a done signal after a fixed number of timesteps, or if the agent has succeeded in completing some task in the environment.\n",
    "\n",
    "\n"
   ]
  },
  {
   "cell_type": "markdown",
   "metadata": {},
   "source": [
    "## Agent-Environment loop in `Gym`\n",
    "* Here below are few examples of agent-environment loop in `gym`:"
   ]
  },
  {
   "cell_type": "markdown",
   "metadata": {},
   "source": [
    "### LunarLander-v2\n",
    "\n",
    "* This example will run an instance of `LunarLander-v2` environment for `n` timesteps. \n",
    "* Since we pass `render_mode=\"human\"`, you should see a window pop up rendering the environment.\n",
    "* Save the following in a file named `lunarlanderv2.py`"
   ]
  },
  {
   "cell_type": "markdown",
   "metadata": {},
   "source": [
    "```python\n",
    "#!/Users/ashis/venv-directory/venv-ml-p3.10/bin/python3.10\n",
    "#Please make this python file executable and then run it without passing it to python interpreter\n",
    "#as the the interpreter listed on the first line will be invoked. Good luck!\n",
    "#$ chmod +x lunarlanderv2.py\n",
    "#$ ./lunralanderv2.py\n",
    "import gym\n",
    "from tqdm import tqdm\n",
    "\n",
    "#number of timestepts\n",
    "n = 500\n",
    "\n",
    "#Since we pass render_mode=\"human\", you should see a window pop up rendering the environment.\n",
    "env = gym.make(\"LunarLander-v2\", render_mode=\"human\")\n",
    "env.action_space.seed(42)\n",
    "\n",
    "observation, info = env.reset(seed=42)\n",
    "\n",
    "for _ in tqdm(range(n)):\n",
    "    action = env.action_space.sample()\n",
    "    observation, reward, terminated, truncated, info = env.step(action)\n",
    "    \n",
    "    if terminated or truncated:\n",
    "        observation, info = env.reset()\n",
    "        #break\n",
    "\n",
    "env.close()\n",
    "\n",
    "```"
   ]
  },
  {
   "cell_type": "markdown",
   "metadata": {},
   "source": [
    "* Every environment specifies the format of valid actions by providing an `env.action_space` attribute. \n",
    "* Similarly, the format of valid observations is specified by `env.observation_space`. \n",
    "* In the example above we sampled random actions via `env.action_space.sample()`. \n",
    "* Note that we need to seed the action space separately from the environment to ensure reproducible samples."
   ]
  },
  {
   "cell_type": "markdown",
   "metadata": {},
   "source": [
    "### ALE/Breakout-v5\n",
    "\n",
    "* This example will run an instance of `ALE/Breakout-v5` environment for `n` timesteps. \n",
    "* Since we pass `render_mode=\"human\"`, you should see a window pop up rendering the environment.\n",
    "* Save the following in a file named `ALE-Breakout-v5_code1.py`"
   ]
  },
  {
   "cell_type": "markdown",
   "metadata": {},
   "source": [
    "```python\n",
    "#!/Users/ashis/venv-directory/venv-ml-p3.10/bin/python3.10\n",
    "#Please make this python file executable and then run it without passing it to python interpreter\n",
    "#as the the interpreter listed on the first line will be invoked. Good luck!\n",
    "#$ chmod +x ALE-Breakout-v5_code1.py\n",
    "#$ ./ALE-Breakout-v5_code1.py\n",
    "\n",
    "import gym\n",
    "from tqdm import tqdm\n",
    "\n",
    "#number of timestepts\n",
    "n = 500\n",
    "\n",
    "#Since we pass render_mode=\"human\", you should see a window pop up rendering the environment.\n",
    "env = gym.make(\"ALE/Breakout-v5\", render_mode=\"human\")\n",
    "env.action_space.seed(42)\n",
    "\n",
    "observation, info = env.reset(seed=42)\n",
    "\n",
    "for _ in tqdm(range(n)):\n",
    "    action = env.action_space.sample()\n",
    "    observation, reward, terminated, truncated, info = env.step(action)\n",
    "    \n",
    "    if terminated or truncated:\n",
    "        observation, info = env.reset()\n",
    "        #break\n",
    "\n",
    "env.close()\n",
    "```"
   ]
  },
  {
   "cell_type": "markdown",
   "metadata": {},
   "source": [
    "### Blackjack-v1\n",
    "\n",
    "* This example will run an instance of `Blackjack-v1` environment for `n` timesteps. \n",
    "* Since we pass `render_mode=\"human\"`, you should see a window pop up rendering the environment.\n",
    "* Save the following in a file named `Blackjack-v1_code1.py`"
   ]
  },
  {
   "cell_type": "markdown",
   "metadata": {},
   "source": [
    "```python\n",
    "#!/Users/ashis/venv-directory/venv-ml-p3.10/bin/python3.10\n",
    "#Please make this python file executable and then run it without passing it to python interpreter\n",
    "#as the the interpreter listed on the first line will be invoked. Good luck!\n",
    "#$ chmod +x Blackjack-v1-code1.py\n",
    "#$ ./Blackjack-v1-code1.py\n",
    "import gym\n",
    "from tqdm import tqdm\n",
    "\n",
    "#number of timestepts\n",
    "n = 500\n",
    "\n",
    "#Since we pass render_mode=\"human\", you should see a window pop up rendering the environment.\n",
    "env = gym.make(\"Blackjack-v1\", render_mode=\"human\")\n",
    "env.action_space.seed(42)\n",
    "\n",
    "observation, info = env.reset(seed=42)\n",
    "\n",
    "for _ in tqdm(range(n)):\n",
    "    action = env.action_space.sample()\n",
    "    observation, reward, terminated, truncated, info = env.step(action)\n",
    "    \n",
    "    if terminated or truncated:\n",
    "        observation, info = env.reset()\n",
    "        #break\n",
    "\n",
    "env.close()\n",
    "```"
   ]
  },
  {
   "cell_type": "markdown",
   "metadata": {},
   "source": [
    "### CarRacing-v2\n",
    "\n",
    "* This example will run an instance of `CarRacing-v2` environment for `n` timesteps. \n",
    "* Since we pass `render_mode=\"human\"`, you should see a window pop up rendering the environment.\n",
    "* Save the following in a file named `CarRacing-v2_code1.py`"
   ]
  },
  {
   "cell_type": "markdown",
   "metadata": {},
   "source": [
    "```python\n",
    "#!/Users/ashis/venv-directory/venv-ml-p3.10/bin/python3.10\n",
    "#Please make this python file executable and then run it without passing it to python interpreter\n",
    "#as the the interpreter listed on the first line will be invoked. Good luck!\n",
    "#$ chmod +x CarRacing-v2-code1.py\n",
    "#$ ./CarRacing-v2-code1.py\n",
    "import gym\n",
    "from tqdm import tqdm\n",
    "\n",
    "#number of timestepts\n",
    "n = 500\n",
    "\n",
    "#Since we pass render_mode=\"human\", you should see a window pop up rendering the environment.\n",
    "env = gym.make(\"CarRacing-v2\", render_mode=\"human\")\n",
    "env.action_space.seed(42)\n",
    "\n",
    "observation, info = env.reset(seed=42)\n",
    "\n",
    "for _ in tqdm(range(n)):\n",
    "    action = env.action_space.sample()\n",
    "    observation, reward, terminated, truncated, info = env.step(action)\n",
    "    \n",
    "    if terminated or truncated:\n",
    "        observation, info = env.reset()\n",
    "        #break\n",
    "\n",
    "env.close()\n",
    "```"
   ]
  },
  {
   "cell_type": "markdown",
   "metadata": {},
   "source": []
  },
  {
   "cell_type": "markdown",
   "metadata": {},
   "source": [
    "### Pong-v0\n",
    "\n",
    "* This example will run an instance of `Pong-v0` environment for `n` timesteps. \n",
    "* Since we pass `render_mode=\"human\"`, you should see a window pop up rendering the environment.\n",
    "* Save the following in a file named `pongv0_code1.py`"
   ]
  },
  {
   "cell_type": "markdown",
   "metadata": {},
   "source": [
    "```python\n",
    "#!/Users/ashis/venv-directory/venv-ml-p3.10/bin/python3.10\n",
    "#Please make this python file executable and then run it without passing it to python interpreter\n",
    "#as the the interpreter listed on the first line will be invoked. Good luck!\n",
    "#$ chmod +x pongv0_code1.py\n",
    "#$ ./pongv0_code1.py\n",
    "\n",
    "import gym\n",
    "from tqdm import tqdm\n",
    "\n",
    "#number of timestepts\n",
    "n = 500\n",
    "\n",
    "#Since we pass render_mode=\"human\", you should see a window pop up rendering the environment.\n",
    "env = gym.make(\"Pong-v0\", render_mode=\"human\")\n",
    "env.action_space.seed(42)\n",
    "\n",
    "observation, info = env.reset(seed=42)\n",
    "\n",
    "for _ in tqdm(range(n)):\n",
    "    action = env.action_space.sample()\n",
    "    observation, reward, terminated, truncated, info = env.step(action)\n",
    "    \n",
    "    if terminated or truncated:\n",
    "        observation, info = env.reset()\n",
    "        #break\n",
    "\n",
    "env.close()\n",
    "```"
   ]
  },
  {
   "cell_type": "markdown",
   "metadata": {},
   "source": [
    "### Riverraid-v0\n",
    "\n",
    "* This example will run an instance of `Riverraid-v0` environment for `n` timesteps. \n",
    "* Since we pass `render_mode=\"human\"`, you should see a window pop up rendering the environment.\n",
    "* Save the following in a file named `Riverraid-v0_code1.py`"
   ]
  },
  {
   "cell_type": "markdown",
   "metadata": {},
   "source": [
    "```python\n",
    "#!/Users/ashis/venv-directory/venv-ml-p3.10/bin/python3.10\n",
    "#Please make this python file executable and then run it without passing it to python interpreter\n",
    "#as the the interpreter listed on the first line will be invoked. Good luck!\n",
    "#$ chmod +x Riverraid-v0_code1.py\n",
    "#$ ./Riverraid-v0_code1.py\n",
    "\n",
    "import gym\n",
    "from tqdm import tqdm\n",
    "\n",
    "#number of timestepts\n",
    "n = 500\n",
    "\n",
    "#Since we pass render_mode=\"human\", you should see a window pop up rendering the environment.\n",
    "env = gym.make(\"Riverraid-v0\", render_mode=\"human\")\n",
    "env.action_space.seed(42)\n",
    "\n",
    "observation, info = env.reset(seed=42)\n",
    "\n",
    "for _ in tqdm(range(n)):\n",
    "    action = env.action_space.sample()\n",
    "    observation, reward, terminated, truncated, info = env.step(action)\n",
    "    \n",
    "    if terminated or truncated:\n",
    "        observation, info = env.reset()\n",
    "        #break\n",
    "\n",
    "env.close()\n",
    "\n",
    "```"
   ]
  },
  {
   "cell_type": "markdown",
   "metadata": {},
   "source": [
    "# Working with `Cartpole-v0` environment\n",
    "* This environment is from the [classic control group](https://www.gymlibrary.dev/environments/classic_control/)\n",
    "* **Goal** is to control the cart (i.e., platform) with a pole attached by its bottom prt.\n",
    "* **Trick**: The pole tends to fall right or left and you would need to balance it by moving the cart to the right or left on every step."
   ]
  },
  {
   "cell_type": "code",
   "execution_count": 16,
   "metadata": {},
   "outputs": [
    {
     "name": "stderr",
     "output_type": "stream",
     "text": [
      "/Users/ashis/venv-directory/venv-ml-p3.10/lib/python3.10/site-packages/gym/envs/registration.py:555: UserWarning: \u001b[33mWARN: The environment CartPole-v0 is out of date. You should consider upgrading to version `v1`.\u001b[0m\n",
      "  logger.warn(\n"
     ]
    }
   ],
   "source": [
    "env = gym.make(\"CartPole-v0\")"
   ]
  },
  {
   "cell_type": "markdown",
   "metadata": {},
   "source": [
    "## State space (observable)\n",
    "* The observation of the environment is 4 floating point numbers: [position of cart, velocity of cart, angle of pole, rotation rate of pole]\n",
    "    1. x-coordinate of the pole's center of mass\n",
    "    2. the pole's speed\n",
    "    3.  the pole's angle to the cart/platform. the pole angle in radians (1 radian = 57.295 degrees)\n",
    "    4. the pole's rotation rate"
   ]
  },
  {
   "cell_type": "code",
   "execution_count": 18,
   "metadata": {},
   "outputs": [
    {
     "name": "stdout",
     "output_type": "stream",
     "text": [
      "obs = [ 0.04054569 -0.03567298  0.0173007   0.02051942]\n"
     ]
    }
   ],
   "source": [
    "obs,info = env.reset()\n",
    "print('obs = {}'.format(obs))\n",
    "#Example printout:\n",
    "# obs = [-0.02007766 -0.00363281 -0.0034504  -0.02222458]"
   ]
  },
  {
   "cell_type": "markdown",
   "metadata": {},
   "source": [
    "## The problem is to find the `best action` per step\n",
    "* We need to convert these 4 observations to into actions. \n",
    "* But, how do we learn to balance this system without knowing the exact meaning of the observed 4 numbers by getting the reward? \n",
    "* Here, the reward is 1; and it is given on every time step.\n",
    "* The episode continues until the pole falls.\n",
    "* To get a more accumulated reward, we need to balance the platform, as long as possible, in a way to avoid the pole falling."
   ]
  },
  {
   "cell_type": "code",
   "execution_count": 19,
   "metadata": {},
   "outputs": [
    {
     "name": "stdout",
     "output_type": "stream",
     "text": [
      "env.action_space = Discrete(2)\n"
     ]
    }
   ],
   "source": [
    "print('env.action_space = {}'.format(env.action_space))\n",
    "#Example printout:\n",
    "# env.action_space = Discrete(2)\n",
    "#only 2 actions: 0 or 1, where 0 means pushing the platform to the left, 1 means to the right."
   ]
  },
  {
   "cell_type": "code",
   "execution_count": 20,
   "metadata": {},
   "outputs": [
    {
     "name": "stdout",
     "output_type": "stream",
     "text": [
      "env.observation_space = Box([-4.8000002e+00 -3.4028235e+38 -4.1887903e-01 -3.4028235e+38], [4.8000002e+00 3.4028235e+38 4.1887903e-01 3.4028235e+38], (4,), float32)\n",
      "env.observation_space.high = [4.8000002e+00 3.4028235e+38 4.1887903e-01 3.4028235e+38]\n",
      "env.observation_space.low = [-4.8000002e+00 -3.4028235e+38 -4.1887903e-01 -3.4028235e+38]\n"
     ]
    }
   ],
   "source": [
    "print('env.observation_space = {}'.format(env.observation_space))\n",
    "#Example printout:\n",
    "# env.observation_space = Box([-4.8000002e+00 -3.4028235e+38 -4.1887903e-01 -3.4028235e+38], [4.8000002e+00 3.4028235e+38 4.1887903e-01 3.4028235e+38], (4,), float32)\n",
    "#The observation space is a 4-D space, and each dimension is as follows:\n",
    "#Num Observation             Min         Max\n",
    "#0   Cart Position           -2.4        2.4\n",
    "#1   Cart Velocity           -Inf        Inf\n",
    "#2   Pole Angle              ~ -41.8°    ~ 41.8°\n",
    "#3   Pole Velocity At Tip    -Inf        Inf\n",
    "#env.observation_space.low and env.observation_space.high which will print the minimum and maximum values for each observation variable.\n",
    "print('env.observation_space.high = {}'.format(env.observation_space.high))\n",
    "print('env.observation_space.low = {}'.format(env.observation_space.low))\n",
    "#Example printout:\n",
    "#env.observation_space.high = [4.8000002e+00 3.4028235e+38 4.1887903e-01 3.4028235e+38]\n",
    "#env.observation_space.low = [-4.8000002e+00 -3.4028235e+38 -4.1887903e-01 -3.4028235e+38]"
   ]
  },
  {
   "cell_type": "markdown",
   "metadata": {},
   "source": [
    "## Apply a specific action at a step\n",
    "* How about going left, i.e., action=0 from the action_space?\n",
    "    - result is a `new state`"
   ]
  },
  {
   "cell_type": "code",
   "execution_count": 21,
   "metadata": {},
   "outputs": [
    {
     "name": "stdout",
     "output_type": "stream",
     "text": [
      "observation = [ 0.03983223 -0.23103872  0.01771109  0.3186103 ]\n",
      "reward = 1.0\n",
      "terminated = False\n",
      "truncated = False\n",
      "info = {}\n"
     ]
    }
   ],
   "source": [
    "observation, reward, terminated, truncated, info = env.step(0)\n",
    "print('observation = {}'.format(observation))\n",
    "print('reward = {}'.format(reward))\n",
    "print('terminated = {}'.format(terminated))\n",
    "print('truncated = {}'.format(truncated))\n",
    "print('info = {}'.format(info))\n",
    "#Example printout:\n",
    "#observation = [-0.02728556 -0.22667485 -0.01062018  0.3176722 ]\n",
    "#reward = 1.0\n",
    "#terminated = False\n",
    "#truncated = False\n",
    "#info = {}"
   ]
  },
  {
   "cell_type": "markdown",
   "metadata": {},
   "source": [
    "## Apply an random action at a step\n",
    "* The `sample()` returns a random sample from the given/supplied space.\n",
    "* Here below, you can see that we sample from the `action_space`.\n",
    "* The `sample()` can also be used to sample from the `observation_space` as well -- although why would we want to use that here?"
   ]
  },
  {
   "cell_type": "code",
   "execution_count": 24,
   "metadata": {},
   "outputs": [
    {
     "name": "stdout",
     "output_type": "stream",
     "text": [
      "action = 1\n"
     ]
    }
   ],
   "source": [
    "action = env.action_space.sample()\n",
    "print('action = {}'.format(action))"
   ]
  },
  {
   "cell_type": "code",
   "execution_count": 25,
   "metadata": {},
   "outputs": [
    {
     "name": "stdout",
     "output_type": "stream",
     "text": [
      "action = 0\n"
     ]
    }
   ],
   "source": [
    "#Let's apply another random action with sampling\n",
    "action = env.action_space.sample()\n",
    "print('action = {}'.format(action))"
   ]
  },
  {
   "cell_type": "code",
   "execution_count": 26,
   "metadata": {},
   "outputs": [
    {
     "name": "stdout",
     "output_type": "stream",
     "text": [
      "action = 1\n"
     ]
    }
   ],
   "source": [
    "#Let's apply another random action with sampling\n",
    "action = env.action_space.sample()\n",
    "print('action = {}'.format(action))"
   ]
  },
  {
   "cell_type": "markdown",
   "metadata": {},
   "source": [
    "## Random CartPole-v0 agent"
   ]
  },
  {
   "cell_type": "markdown",
   "metadata": {},
   "source": [
    "```python\n",
    "#!/Users/ashis/venv-directory/venv-ml-p3.10/bin/python3.10\n",
    "#Please make this python file executable and then run it without passing it to python interpreter\n",
    "#as the the interpreter listed on the first line will be invoked. Good luck!\n",
    "#$ chmod +x CartPole-v0-code3.py\n",
    "#$ ./CartPole-v0-code3.py\n",
    "import gym\n",
    "from tqdm import tqdm\n",
    "\n",
    "\n",
    "#The CartPole-v0 environment with a random agent\n",
    "# Goal is to control the cart (i.e., platform) with a pole attached by its bottom prt.\n",
    "# Trick: The pole tends to fall right or left and you would need to balance it by moving the cart to the right or left on every step.\n",
    "\n",
    "env = gym.make(\"CartPole-v0\",render_mode='human')\n",
    "\n",
    "#Here below, we created the environment and initialized few variables.\n",
    "total_reward = 0.0\n",
    "total_steps = 0\n",
    "observation, info = env.reset(seed=42)\n",
    "\n",
    "while True:\n",
    "    action = env.action_space.sample()\n",
    "    observation, reward, terminated, truncated, info = env.step(action)\n",
    "    total_reward += reward\n",
    "    total_steps += 1\n",
    "\n",
    "    if terminated:\n",
    "        break\n",
    "\n",
    "print('Episode terminated in {} steps\\nTotal rewards accumulated = {}'.format(total_steps,total_reward))\n",
    "\n",
    "#On average, this random agent takes 12 to 15 steps before the pole falls and the episode ends\n",
    "#Most of the environments in Gym have a `reward boundary`, which is the average reward that the agent should gain during 100 consecutive eposides to solve the environment.\n",
    "#For cartpole, the boundary is 195. That means, on average, the agent must hold the stick for 195 time steps or longer.\n",
    "#So, our random agent's performance is extremely poor.\n",
    "```"
   ]
  },
  {
   "cell_type": "markdown",
   "metadata": {},
   "source": [
    "## Intelligent CartPole-v0 agent"
   ]
  },
  {
   "cell_type": "markdown",
   "metadata": {},
   "source": [
    "### Discretizing continuous state space"
   ]
  },
  {
   "cell_type": "code",
   "execution_count": 28,
   "metadata": {},
   "outputs": [],
   "source": [
    "def discretize_state(state, env, buckets=(1,1,6,12)):\n",
    "    \"\"\"    \n",
    "    The problem: The original states in this game are continuous, which does not work with the basic Q-learning algorithm as it expects discrete states. By the way, a slightly advanced Q-learning strategy can work with continuous state space with the help of approximation. Let's leave that strategy out of the scope of this course! Sorry. please enroll the \"AI with Reinforcement Learning\" course in Spring'23 with Dr. B. Purpose of this function is to discretize the continuous state space into buckets. \n",
    "\n",
    "    :param state: current state's observation which needs discretizing\n",
    "    :type state: 4-D float array\n",
    "    :param env: the cartpole environment\n",
    "    :type env: environment object returned most likely from a gym.make() call.\n",
    "    :param buckets: this will be used to discretize the original continuous states in this Cartpole example, defaults to (1,1,6,12)\n",
    "    :type buckets: tuple, optional\n",
    "    :return: The discretized state space in the given buckets\n",
    "    :rtype: tuple\n",
    "    \"\"\"\n",
    "    ## [position of cart, velocity of cart, angle of pole, rotation rate of pole]\n",
    "    ## i) x-coordinate of the pole's center of mass (i.e., cart position), unit: m\n",
    "    ## ii) Cart velocity [-inf, inf], unit: m/s\n",
    "    ## iii) the pole's angle to the cart/platform. the pole angle in radians (1 radian = 57.295 degrees); \n",
    "    ## iv) the pole's angular velocity [-inf, inf], unit: radian/s\n",
    "    \n",
    "\n",
    "    # Revising the upper and the lower bounds for the discretization\n",
    "    # Please note: cart velocity upper and lower bounds are 3.4e38 (inf), -3.4e38 (-inf). That's a huge space!\n",
    "    # Let's shrink it down to [0.5, -0.5]\n",
    "\n",
    "    # Also note: pole's angular velocity upper and lower bounds are 3.4e38 (inf), -3.4e38 (-inf). That's also a huge space!\n",
    "    # Let's shrink it down to [50 degrees/1 sec, -50 degrees/1 sec]\n",
    "    \n",
    "    upper_bounds = [env.observation_space.high[0], 0.5, env.observation_space.high[2], math.radians(50) / 1.]\n",
    "    lower_bounds = [env.observation_space.low[0], -0.5, env.observation_space.low[2], -math.radians(50) / 1.]\n",
    "\n",
    "    # state is the native state representations produced by env\n",
    "    ratios = [(state[i] + abs(lower_bounds[i])) / (upper_bounds[i] - lower_bounds[i]) for i in range(len(state))]\n",
    "    \n",
    "    # state_ is discretized state representation used for Q-table later\n",
    "    state_ = [int(round((buckets[i] - 1) * ratios[i])) for i in range(len(state))]\n",
    "    state_ = [min(buckets[i] - 1, max(0, state_[i])) for i in range(len(state))]\n",
    "\n",
    "    return tuple(state_) "
   ]
  },
  {
   "cell_type": "markdown",
   "metadata": {},
   "source": [
    "### Epsilon-greedy policy"
   ]
  },
  {
   "cell_type": "code",
   "execution_count": 29,
   "metadata": {},
   "outputs": [],
   "source": [
    "def epsilon_greedy_policy(state, env, Q_table, exploration_rate):\n",
    "    \"\"\"This is an epsilon greedy policy. In other words, most of the times the agent chooses the action that maximizes the reward given state (greedily). But occassionally (controlled by the exploration_rate), the agent chooses a random action which makes sure the agent balances between exploitation and exploration\n",
    "\n",
    "    :param state: the current state the agent is at.\n",
    "    :type state: same as state\n",
    "    :param env: the CartPole environment\n",
    "    :type env: environment type returned perhaps from gym.make() call.\n",
    "    :param Q_table: a table-like structure\n",
    "    :type Q_table: same as Q_table\n",
    "    :param exploration_rate: exploration rate\n",
    "    :type exploration_rate: a small number close to 0.\n",
    "    :return: action to be taken in the next step\n",
    "    :rtype: between any value in the action_space. E.g., {0 (left), 1 (right)}\n",
    "    \"\"\"\n",
    "    if (np.random.random() < exploration_rate):\n",
    "        # Generates numbers np.random.random() uniformly between 0-1\n",
    "        # This samples a random action given the environment\n",
    "        return env.action_space.sample()\n",
    "    else:\n",
    "        # Choose greedily the action which gives the highest expected reward\n",
    "        # given the current state\n",
    "        return np.argmax(Q_table[state])\n"
   ]
  },
  {
   "cell_type": "markdown",
   "metadata": {},
   "source": [
    "### Learning rate decay strategy"
   ]
  },
  {
   "cell_type": "code",
   "execution_count": 30,
   "metadata": {},
   "outputs": [],
   "source": [
    "def get_rate_with_decay(t, decay_rate=25.0):\n",
    "    \"\"\"Get the learning rate or exploration_rate given an episode subject to decay. \n",
    "    Given the current episode number and the rate has a tendency to decrease with increasing number of episodes.\n",
    "\n",
    "    :param t: episode number\n",
    "    :type t: int\n",
    "    :param decay_rate: decay rate, defaults to 25%\n",
    "    :type decay_rate: float\n",
    "    :return: decayed alpha value\n",
    "    :rtype: float\n",
    "    \"\"\"\n",
    "    decayed_alpha = max(0.1, min(1., 1. - np.log10((t + 1) / decay_rate)))\n",
    "    return decayed_alpha"
   ]
  },
  {
   "cell_type": "markdown",
   "metadata": {},
   "source": [
    "### Update Q-table (for one step)"
   ]
  },
  {
   "cell_type": "code",
   "execution_count": 31,
   "metadata": {},
   "outputs": [],
   "source": [
    "def update_Q(Q_table, state, action, reward, new_state, alpha, gamma):\n",
    "    \"\"\"Q-learning update step.\n",
    "\n",
    "    :param Q_table: a table-like structure with N rows for states and M columns for actions\n",
    "    :type Q_table: numpy array of shape (shape(discretized_state_space),shape(action_space)). Example: (1,1,6,12,2), where (1,1,6,12) is the shape of discretized state space, and (2,) is the shape of action space.\n",
    "    :param state: the current state the agent is at time step t.\n",
    "    :type state: numpy array of shape(discretized_state_space)\n",
    "    :param action: the action taken given the previous state at time step t\n",
    "    :type action: int\n",
    "    :param reward: reward collected as a result of that action at time step t\n",
    "    :type reward: int\n",
    "    :param new_state: the new state at time-step t+1\n",
    "    :type new_state: same as state\n",
    "    :param alpha: learning rate\n",
    "    :type alpha: float\n",
    "    :param gamma: discount factor\n",
    "    :type gamma: float\n",
    "    :return: updated Q_table\n",
    "    :rtype: same shape of the given Q_table\n",
    "    \"\"\"\n",
    "    Q_table[state][action] = Q_table[state][action] + alpha * (reward + gamma * np.max(Q_table[new_state]) - Q_table[state][action])\n",
    "    return Q_table"
   ]
  },
  {
   "cell_type": "markdown",
   "metadata": {},
   "source": [
    "### Q-learning"
   ]
  },
  {
   "cell_type": "code",
   "execution_count": 32,
   "metadata": {},
   "outputs": [],
   "source": [
    "def Q_learning(env, num_episodes, gamma=0.98):\n",
    "    \"\"\"Training the agent with Q-learning with respect to pseudocode in Algorithm 1\n",
    "\n",
    "    :param env: the cartpole environment\n",
    "    :type env: environment object likely returned from a gym.make() call.\n",
    "    :param num_episodes: the number of episodes for which to train\n",
    "    :type num_episodes: int\n",
    "    :param gamma: Discount factor gamma represents how much does the agent value future rewards as opposed to immediate rewards.\n",
    "    :type gamma: float\n",
    "    :return: The optimized Q-table\n",
    "    :rtype: (dim(discretized_state_space)+dim(action_space)), e.g., (1,1,6,12,2) in CartPole-v0\n",
    "    :return: A list containing the total cummulative reward for each episode of training.\n",
    "    :rtype: list of length==num_episodes\n",
    "    \"\"\"\n",
    "\n",
    "    # (1, 1, 6, 12) represents the discretization buckets.\n",
    "    # Initialize the Q-table as full of zeros at the start.\n",
    "    # Shape of Q_table would be = (1,1,6,12,  2), as there are 2 actions.\n",
    "    Q_table = np.zeros((1, 1, 6, 12) + (env.action_space.n,))\n",
    "\n",
    "    # Create a list to store the accumulated reward per each episode\n",
    "    total_reward = []\n",
    "    for e in tqdm(range(num_episodes)):\n",
    "\n",
    "        # Reset the environment for a new episode, get the default state S_0\n",
    "        state,info = env.reset()\n",
    "        #convert the continuous state to discrete state\n",
    "        state = discretize_state(state, env)\n",
    "\n",
    "        # Adjust the alpha and the exploration rate, it is a coincidence they are the same.\n",
    "        alpha = exploration_rate = get_rate_with_decay(e)\n",
    "        \n",
    "        # Initialize the current episode reward to 0 \n",
    "        episode_reward = 0\n",
    "        done = False\n",
    "        while done is False:\n",
    "            # Choose the action A_{t} based on the policy\n",
    "            action = epsilon_greedy_policy(state, env, Q_table, exploration_rate)\n",
    "\n",
    "            # Get the new state (S_{t+1}), reward (R_{t+1}), end signal\n",
    "            new_state, reward, done, _, _ = env.step(action)\n",
    "            #convert the continuous state to discrete state\n",
    "            new_state = discretize_state(new_state, env)\n",
    "\n",
    "            # Update Q-table via update_q(Q_table, S_{t}, A_{t}, R_{t+1}, S_{t+1}, alpha, gamma) \n",
    "            Q_table = update_Q(Q_table, state, action, reward, new_state, alpha, gamma)\n",
    "\n",
    "            # Update the state S_{t} = S_{t+1}\n",
    "            state = new_state\n",
    "            \n",
    "            # Accumulate the reward\n",
    "            episode_reward += reward\n",
    "        \n",
    "        total_reward.append(episode_reward)\n",
    "    print('Finished training!')\n",
    "    return Q_table, total_reward\n"
   ]
  },
  {
   "cell_type": "markdown",
   "metadata": {},
   "source": [
    "### Training Q-learning agent"
   ]
  },
  {
   "cell_type": "code",
   "execution_count": 34,
   "metadata": {},
   "outputs": [
    {
     "name": "stderr",
     "output_type": "stream",
     "text": [
      "/Users/ashis/venv-directory/venv-ml-p3.10/lib/python3.10/site-packages/gym/envs/registration.py:555: UserWarning: \u001b[33mWARN: The environment CartPole-v0 is out of date. You should consider upgrading to version `v1`.\u001b[0m\n",
      "  logger.warn(\n"
     ]
    }
   ],
   "source": [
    "#Now, let's begin train\n",
    "# OpenAI Gym builds the environment for us including all the rules, dynamics etc.\n",
    "env = gym.make('CartPole-v0',render_mode='rgb_array')"
   ]
  },
  {
   "cell_type": "code",
   "execution_count": 35,
   "metadata": {},
   "outputs": [],
   "source": [
    "#you can tune verbosity of cell executions\n",
    "verbose = True\n",
    "\n",
    "# How long do we want the agent to explore and learn?\n",
    "num_episodes = 100"
   ]
  },
  {
   "cell_type": "code",
   "execution_count": 36,
   "metadata": {},
   "outputs": [
    {
     "name": "stderr",
     "output_type": "stream",
     "text": [
      "100%|██████████| 100/100 [00:00<00:00, 281.10it/s]"
     ]
    },
    {
     "name": "stdout",
     "output_type": "stream",
     "text": [
      "Finished training!\n"
     ]
    },
    {
     "name": "stderr",
     "output_type": "stream",
     "text": [
      "\n"
     ]
    }
   ],
   "source": [
    "# Let us use Q-learning to learn best policy\n",
    "Q_table, total_reward = Q_learning(env, num_episodes)"
   ]
  },
  {
   "cell_type": "code",
   "execution_count": 37,
   "metadata": {},
   "outputs": [
    {
     "data": {
      "image/png": "[encoded data removed]",
      "text/plain": [
       "<Figure size 640x480 with 1 Axes>"
      ]
     },
     "metadata": {},
     "output_type": "display_data"
    },
    {
     "name": "stdout",
     "output_type": "stream",
     "text": [
      "[[[[[ 0.          0.        ]\n",
      "    [ 0.          0.        ]\n",
      "    [ 0.          0.        ]\n",
      "    [ 0.          0.        ]\n",
      "    [ 0.          0.        ]\n",
      "    [ 0.          0.        ]\n",
      "    [ 0.          0.        ]\n",
      "    [ 0.          0.        ]\n",
      "    [ 0.          0.        ]\n",
      "    [ 0.          0.        ]\n",
      "    [ 0.          0.        ]\n",
      "    [ 0.          0.        ]]\n",
      "\n",
      "   [[24.71210507 26.97967061]\n",
      "    [19.36552249 24.78297896]\n",
      "    [16.2735539  26.49553617]\n",
      "    [17.57212113 17.61406818]\n",
      "    [ 8.21063206 24.59917008]\n",
      "    [ 7.35797894 18.82634129]\n",
      "    [ 1.39883516 16.38212077]\n",
      "    [ 0.          5.3843517 ]\n",
      "    [ 0.          0.        ]\n",
      "    [ 0.          0.        ]\n",
      "    [ 0.          0.        ]\n",
      "    [ 0.          0.        ]]\n",
      "\n",
      "   [[39.464254   33.35214412]\n",
      "    [42.45996193 41.37632691]\n",
      "    [43.30377763 39.09147226]\n",
      "    [46.04908574 45.10822863]\n",
      "    [46.4304456  41.16349714]\n",
      "    [47.38819135 45.72096166]\n",
      "    [47.45463817 44.80132441]\n",
      "    [46.73390266 47.3744664 ]\n",
      "    [41.03495981 47.51337862]\n",
      "    [43.47194675 46.73617476]\n",
      "    [36.21946821 45.77860093]\n",
      "    [35.16151901 43.52222254]]\n",
      "\n",
      "   [[42.76218447 21.27813694]\n",
      "    [39.40187018 37.72833322]\n",
      "    [46.15285626 38.32446967]\n",
      "    [47.50954781 35.32473746]\n",
      "    [47.5401802  46.60351476]\n",
      "    [47.66038873 47.11804004]\n",
      "    [47.60103365 47.55516929]\n",
      "    [47.58285643 47.63965583]\n",
      "    [36.47059067 47.61806109]\n",
      "    [31.1948667  47.57709795]\n",
      "    [38.08439207 32.69275593]\n",
      "    [30.00990578 38.10094023]]\n",
      "\n",
      "   [[ 0.          0.        ]\n",
      "    [ 0.          0.        ]\n",
      "    [ 0.          0.        ]\n",
      "    [ 0.          0.        ]\n",
      "    [ 4.81579124  0.        ]\n",
      "    [10.4329096   0.        ]\n",
      "    [13.40464354  1.64992239]\n",
      "    [18.87170249  5.14890821]\n",
      "    [19.40564766 11.01558211]\n",
      "    [19.89778969 16.92839818]\n",
      "    [21.35209434 13.92085244]\n",
      "    [21.44964463 22.25739279]]\n",
      "\n",
      "   [[ 0.          0.        ]\n",
      "    [ 0.          0.        ]\n",
      "    [ 0.          0.        ]\n",
      "    [ 0.          0.        ]\n",
      "    [ 0.          0.        ]\n",
      "    [ 0.          0.        ]\n",
      "    [ 0.          0.        ]\n",
      "    [ 0.          0.        ]\n",
      "    [ 0.          0.        ]\n",
      "    [ 0.          0.        ]\n",
      "    [ 0.          0.        ]\n",
      "    [ 0.          0.        ]]]]] (1, 1, 6, 12, 2)\n"
     ]
    },
    {
     "data": {
      "text/plain": [
       "['joblibs/Q_table.joblib']"
      ]
     },
     "execution_count": 37,
     "metadata": {},
     "output_type": "execute_result"
    }
   ],
   "source": [
    "if verbose:\n",
    "    #Plot\n",
    "    plt.plot(range(num_episodes), total_reward)\n",
    "    plt.xlabel('Episode')\n",
    "    plt.ylabel('Training cumulative reward')\n",
    "    plt.show()\n",
    "\n",
    "    print(Q_table, Q_table.shape)\n",
    "\n",
    "#Saving the Q table for later use.\n",
    "dump(Q_table,'joblibs/Q_table.joblib')"
   ]
  },
  {
   "cell_type": "code",
   "execution_count": 38,
   "metadata": {},
   "outputs": [],
   "source": [
    "#Don't forget to closing the gym environment\n",
    "env.close()"
   ]
  },
  {
   "cell_type": "markdown",
   "metadata": {},
   "source": [
    "### Evaluating Q-learning agent after training"
   ]
  },
  {
   "cell_type": "markdown",
   "metadata": {},
   "source": [
    "#### The imports"
   ]
  },
  {
   "cell_type": "code",
   "execution_count": 1,
   "metadata": {},
   "outputs": [],
   "source": [
    "import gym\n",
    "import math\n",
    "import imageio.v2 as imageio\n",
    "import os\n",
    "import numpy as np\n",
    "from tqdm import tqdm\n",
    "import matplotlib.pyplot as plt\n",
    "from joblib import load, dump"
   ]
  },
  {
   "cell_type": "code",
   "execution_count": 39,
   "metadata": {},
   "outputs": [],
   "source": [
    "#Let's run one episode\n",
    "\n",
    "max_episode_length = 400 #Duh! You wish!! It depends on how good your agent learned during training. \n",
    "\n",
    "# This way we can test the agent's recently learned policy with the saved Q_table\n",
    "Q_table = load('joblibs/Q_table.joblib')"
   ]
  },
  {
   "cell_type": "code",
   "execution_count": 40,
   "metadata": {},
   "outputs": [],
   "source": [
    "##Final test and viz. \n",
    "# Don't forget to switch to render_mode='rgb_array', otherwise env.render() will return None.\n",
    "env = gym.make('CartPole-v0',render_mode='rgb_array')"
   ]
  },
  {
   "cell_type": "code",
   "execution_count": 41,
   "metadata": {},
   "outputs": [],
   "source": [
    "# Initialize the reward\n",
    "episode_reward = 0\n",
    "\n",
    "# Count how many times the agent went right and how many times it went left\n",
    "right = 0\n",
    "left = 0\n",
    "\n",
    "# Initialize empty buffer for the images that will be stiched to a gif\n",
    "# Create a temp directory\n",
    "filenames = []"
   ]
  },
  {
   "cell_type": "code",
   "execution_count": 42,
   "metadata": {},
   "outputs": [],
   "source": [
    "#Create a temp directory\n",
    "try:\n",
    "    os.mkdir(\"./temp\")\n",
    "except:\n",
    "    #print('Error: file system readonly?')\n",
    "    pass"
   ]
  },
  {
   "cell_type": "code",
   "execution_count": 43,
   "metadata": {},
   "outputs": [],
   "source": [
    "# Test the trained agent in a completely fresh start environment\n",
    "state,info = env.reset()\n",
    "# Don't forget to discretize the state_space the same way you did to train the agent\n",
    "state = discretize_state(state, env)"
   ]
  },
  {
   "cell_type": "code",
   "execution_count": 44,
   "metadata": {},
   "outputs": [
    {
     "name": "stderr",
     "output_type": "stream",
     "text": [
      " 10%|█         | 42/400 [00:07<01:05,  5.45it/s]"
     ]
    },
    {
     "name": "stdout",
     "output_type": "stream",
     "text": [
      "Test episode finished at step 43 with a total reward of: 43.0\n",
      "We moved 22 times right and 21 times left\n"
     ]
    },
    {
     "name": "stderr",
     "output_type": "stream",
     "text": [
      "\n"
     ]
    }
   ],
   "source": [
    "# Run for maximum of max_episode_length steps which is the limit of the game\n",
    "for step in tqdm(range(max_episode_length)):\n",
    "\n",
    "    # Plot the previous state and save it as an image that \n",
    "    # will be later patched together sa a .gif\n",
    "    img = plt.imshow(env.render())\n",
    "\n",
    "    plt.title(\"Step: {}\".format(step))\n",
    "    plt.axis('off')\n",
    "    plt.savefig(\"./temp/{}.png\".format(step))\n",
    "    plt.close()\n",
    "    filenames.append(\"./temp/{}.png\".format(step))\n",
    "            \n",
    "    # Here we set the exploration rate to 0.0 as we want to avoid any random exploration.\n",
    "    # That is, we want the agent fully depends on its learned policy (+Q_table)\n",
    "    action = epsilon_greedy_policy(state, env, Q_table, exploration_rate=0.0)\n",
    "\n",
    "    #Just for statistics purpose\n",
    "    right+=1 if action == 1 else 0\n",
    "    left+=1 if action == 0 else 0\n",
    "\n",
    "    #Apply the next step\n",
    "    new_state, reward, done, _ , _ = env.step(action)\n",
    "    #Don't forget to discretize new_state\n",
    "    new_state = discretize_state(new_state, env)\n",
    "    state = new_state\n",
    "\n",
    "    #Collect/accumulate reward\n",
    "    episode_reward += reward\n",
    "\n",
    "    # At the end of the episode print the total reward, \n",
    "    # only the agent is done before the set max_episode_length steps.\n",
    "    # If your agent was trained well, who knows, the following would never happen! Haha\n",
    "    if done:\n",
    "        print(f'Test episode finished at step {step+1} with a total reward of: {episode_reward}')\n",
    "        print(f'We moved {right} times right and {left} times left')\n",
    "        break"
   ]
  },
  {
   "cell_type": "code",
   "execution_count": 45,
   "metadata": {},
   "outputs": [],
   "source": [
    "# Stitch the images together to produce a .gif\n",
    "with imageio.get_writer('./video/test.gif', mode='I') as writer:\n",
    "    for filename in filenames:\n",
    "        image = imageio.imread(filename)\n",
    "        writer.append_data(image)"
   ]
  },
  {
   "cell_type": "code",
   "execution_count": 46,
   "metadata": {},
   "outputs": [],
   "source": [
    "# Cleanup the images for the next run\n",
    "for f in filenames:\n",
    "    os.remove(f)"
   ]
  },
  {
   "cell_type": "code",
   "execution_count": 47,
   "metadata": {},
   "outputs": [
    {
     "ename": "",
     "evalue": "",
     "output_type": "error",
     "traceback": [
      "\u001b[1;31mThe Kernel crashed while executing code in the the current cell or a previous cell. Please review the code in the cell(s) to identify a possible cause of the failure. Click <a href='https://aka.ms/vscodeJupyterKernelCrash'>here</a> for more info. View Jupyter <a href='command:jupyter.viewOutput'>log</a> for further details."
     ]
    }
   ],
   "source": [
    "# Close the environment\n",
    "env.close()"
   ]
  }
 ],
 "metadata": {
  "kernelspec": {
   "display_name": "Python 3.10.6 ('venv-ml-p3.10')",
   "language": "python",
   "name": "python3"
  },
  "language_info": {
   "codemirror_mode": {
    "name": "ipython",
    "version": 3
   },
   "file_extension": ".py",
   "mimetype": "text/x-python",
   "name": "python",
   "nbconvert_exporter": "python",
   "pygments_lexer": "ipython3",
   "version": "3.10.6"
  },
  "orig_nbformat": 4,
  "vscode": {
   "interpreter": {
    "hash": "02e21343f826c236a58b28b5c79787633fe2e2a6d9ea6119a3d1b0f9c0c8d4d6"
   }
  }
 },
 "nbformat": 4,
 "nbformat_minor": 2
}
